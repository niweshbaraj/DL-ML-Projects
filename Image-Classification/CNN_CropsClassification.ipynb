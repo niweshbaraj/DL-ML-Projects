{
  "cells": [
    {
      "cell_type": "code",
      "source": [
        "from google.colab import files\n",
        "files.upload()"
      ],
      "metadata": {
        "id": "8MG3zuGsEa5W",
        "colab": {
          "base_uri": "https://localhost:8080/",
          "height": 89
        },
        "outputId": "ebbd06e1-28d7-40f1-b4d5-ead555c87220"
      },
      "execution_count": null,
      "outputs": [
        {
          "output_type": "display_data",
          "data": {
            "text/plain": [
              "<IPython.core.display.HTML object>"
            ],
            "text/html": [
              "\n",
              "     <input type=\"file\" id=\"files-603e5a02-bf44-44af-af98-196056f0918f\" name=\"files[]\" multiple disabled\n",
              "        style=\"border:none\" />\n",
              "     <output id=\"result-603e5a02-bf44-44af-af98-196056f0918f\">\n",
              "      Upload widget is only available when the cell has been executed in the\n",
              "      current browser session. Please rerun this cell to enable.\n",
              "      </output>\n",
              "      <script>// Copyright 2017 Google LLC\n",
              "//\n",
              "// Licensed under the Apache License, Version 2.0 (the \"License\");\n",
              "// you may not use this file except in compliance with the License.\n",
              "// You may obtain a copy of the License at\n",
              "//\n",
              "//      http://www.apache.org/licenses/LICENSE-2.0\n",
              "//\n",
              "// Unless required by applicable law or agreed to in writing, software\n",
              "// distributed under the License is distributed on an \"AS IS\" BASIS,\n",
              "// WITHOUT WARRANTIES OR CONDITIONS OF ANY KIND, either express or implied.\n",
              "// See the License for the specific language governing permissions and\n",
              "// limitations under the License.\n",
              "\n",
              "/**\n",
              " * @fileoverview Helpers for google.colab Python module.\n",
              " */\n",
              "(function(scope) {\n",
              "function span(text, styleAttributes = {}) {\n",
              "  const element = document.createElement('span');\n",
              "  element.textContent = text;\n",
              "  for (const key of Object.keys(styleAttributes)) {\n",
              "    element.style[key] = styleAttributes[key];\n",
              "  }\n",
              "  return element;\n",
              "}\n",
              "\n",
              "// Max number of bytes which will be uploaded at a time.\n",
              "const MAX_PAYLOAD_SIZE = 100 * 1024;\n",
              "\n",
              "function _uploadFiles(inputId, outputId) {\n",
              "  const steps = uploadFilesStep(inputId, outputId);\n",
              "  const outputElement = document.getElementById(outputId);\n",
              "  // Cache steps on the outputElement to make it available for the next call\n",
              "  // to uploadFilesContinue from Python.\n",
              "  outputElement.steps = steps;\n",
              "\n",
              "  return _uploadFilesContinue(outputId);\n",
              "}\n",
              "\n",
              "// This is roughly an async generator (not supported in the browser yet),\n",
              "// where there are multiple asynchronous steps and the Python side is going\n",
              "// to poll for completion of each step.\n",
              "// This uses a Promise to block the python side on completion of each step,\n",
              "// then passes the result of the previous step as the input to the next step.\n",
              "function _uploadFilesContinue(outputId) {\n",
              "  const outputElement = document.getElementById(outputId);\n",
              "  const steps = outputElement.steps;\n",
              "\n",
              "  const next = steps.next(outputElement.lastPromiseValue);\n",
              "  return Promise.resolve(next.value.promise).then((value) => {\n",
              "    // Cache the last promise value to make it available to the next\n",
              "    // step of the generator.\n",
              "    outputElement.lastPromiseValue = value;\n",
              "    return next.value.response;\n",
              "  });\n",
              "}\n",
              "\n",
              "/**\n",
              " * Generator function which is called between each async step of the upload\n",
              " * process.\n",
              " * @param {string} inputId Element ID of the input file picker element.\n",
              " * @param {string} outputId Element ID of the output display.\n",
              " * @return {!Iterable<!Object>} Iterable of next steps.\n",
              " */\n",
              "function* uploadFilesStep(inputId, outputId) {\n",
              "  const inputElement = document.getElementById(inputId);\n",
              "  inputElement.disabled = false;\n",
              "\n",
              "  const outputElement = document.getElementById(outputId);\n",
              "  outputElement.innerHTML = '';\n",
              "\n",
              "  const pickedPromise = new Promise((resolve) => {\n",
              "    inputElement.addEventListener('change', (e) => {\n",
              "      resolve(e.target.files);\n",
              "    });\n",
              "  });\n",
              "\n",
              "  const cancel = document.createElement('button');\n",
              "  inputElement.parentElement.appendChild(cancel);\n",
              "  cancel.textContent = 'Cancel upload';\n",
              "  const cancelPromise = new Promise((resolve) => {\n",
              "    cancel.onclick = () => {\n",
              "      resolve(null);\n",
              "    };\n",
              "  });\n",
              "\n",
              "  // Wait for the user to pick the files.\n",
              "  const files = yield {\n",
              "    promise: Promise.race([pickedPromise, cancelPromise]),\n",
              "    response: {\n",
              "      action: 'starting',\n",
              "    }\n",
              "  };\n",
              "\n",
              "  cancel.remove();\n",
              "\n",
              "  // Disable the input element since further picks are not allowed.\n",
              "  inputElement.disabled = true;\n",
              "\n",
              "  if (!files) {\n",
              "    return {\n",
              "      response: {\n",
              "        action: 'complete',\n",
              "      }\n",
              "    };\n",
              "  }\n",
              "\n",
              "  for (const file of files) {\n",
              "    const li = document.createElement('li');\n",
              "    li.append(span(file.name, {fontWeight: 'bold'}));\n",
              "    li.append(span(\n",
              "        `(${file.type || 'n/a'}) - ${file.size} bytes, ` +\n",
              "        `last modified: ${\n",
              "            file.lastModifiedDate ? file.lastModifiedDate.toLocaleDateString() :\n",
              "                                    'n/a'} - `));\n",
              "    const percent = span('0% done');\n",
              "    li.appendChild(percent);\n",
              "\n",
              "    outputElement.appendChild(li);\n",
              "\n",
              "    const fileDataPromise = new Promise((resolve) => {\n",
              "      const reader = new FileReader();\n",
              "      reader.onload = (e) => {\n",
              "        resolve(e.target.result);\n",
              "      };\n",
              "      reader.readAsArrayBuffer(file);\n",
              "    });\n",
              "    // Wait for the data to be ready.\n",
              "    let fileData = yield {\n",
              "      promise: fileDataPromise,\n",
              "      response: {\n",
              "        action: 'continue',\n",
              "      }\n",
              "    };\n",
              "\n",
              "    // Use a chunked sending to avoid message size limits. See b/62115660.\n",
              "    let position = 0;\n",
              "    do {\n",
              "      const length = Math.min(fileData.byteLength - position, MAX_PAYLOAD_SIZE);\n",
              "      const chunk = new Uint8Array(fileData, position, length);\n",
              "      position += length;\n",
              "\n",
              "      const base64 = btoa(String.fromCharCode.apply(null, chunk));\n",
              "      yield {\n",
              "        response: {\n",
              "          action: 'append',\n",
              "          file: file.name,\n",
              "          data: base64,\n",
              "        },\n",
              "      };\n",
              "\n",
              "      let percentDone = fileData.byteLength === 0 ?\n",
              "          100 :\n",
              "          Math.round((position / fileData.byteLength) * 100);\n",
              "      percent.textContent = `${percentDone}% done`;\n",
              "\n",
              "    } while (position < fileData.byteLength);\n",
              "  }\n",
              "\n",
              "  // All done.\n",
              "  yield {\n",
              "    response: {\n",
              "      action: 'complete',\n",
              "    }\n",
              "  };\n",
              "}\n",
              "\n",
              "scope.google = scope.google || {};\n",
              "scope.google.colab = scope.google.colab || {};\n",
              "scope.google.colab._files = {\n",
              "  _uploadFiles,\n",
              "  _uploadFilesContinue,\n",
              "};\n",
              "})(self);\n",
              "</script> "
            ]
          },
          "metadata": {}
        },
        {
          "output_type": "stream",
          "name": "stdout",
          "text": [
            "Saving kaggle (1).json to kaggle (1).json\n"
          ]
        },
        {
          "output_type": "execute_result",
          "data": {
            "text/plain": [
              "{'kaggle (1).json': b'{\"username\":\"iitm21f1001463\",\"key\":\"337fa2cf6c664121073b675cd7ee7ba7\"}'}"
            ]
          },
          "metadata": {},
          "execution_count": 1
        }
      ]
    },
    {
      "cell_type": "code",
      "source": [
        "!rm -r ~/.kaggle\n",
        "!mkdir ~/.kaggle\n",
        "!mv ./kaggle.json ~/.kaggle/\n",
        "!chmod 600 ~/.kaggle/kaggle.json"
      ],
      "metadata": {
        "id": "WI_AUD6REggj",
        "colab": {
          "base_uri": "https://localhost:8080/"
        },
        "outputId": "651b682e-fe32-44c8-c16c-c8d0dc83caf8"
      },
      "execution_count": null,
      "outputs": [
        {
          "output_type": "stream",
          "name": "stdout",
          "text": [
            "rm: cannot remove '/root/.kaggle': No such file or directory\n"
          ]
        }
      ]
    },
    {
      "cell_type": "code",
      "source": [
        "from google.colab import drive\n",
        "drive.mount('/content/drive')"
      ],
      "metadata": {
        "colab": {
          "base_uri": "https://localhost:8080/"
        },
        "id": "6Qp6pY1k9aDR",
        "outputId": "98257726-ab89-4d41-d7cd-0e9dc81194cb"
      },
      "execution_count": null,
      "outputs": [
        {
          "output_type": "stream",
          "name": "stdout",
          "text": [
            "Mounted at /content/drive\n"
          ]
        }
      ]
    },
    {
      "cell_type": "markdown",
      "source": [
        "## Download data from Kaggle and unzip the dataset"
      ],
      "metadata": {
        "id": "JaSqmeEw8J6n"
      }
    },
    {
      "cell_type": "code",
      "source": [
        "!kaggle datasets download -d mdwaquarazam/agricultural-crops-image-classification"
      ],
      "metadata": {
        "colab": {
          "base_uri": "https://localhost:8080/"
        },
        "id": "P-2vkluXFfoj",
        "outputId": "0e4f6f18-2043-4d77-ee56-aa7331a7af48"
      },
      "execution_count": null,
      "outputs": [
        {
          "output_type": "stream",
          "name": "stdout",
          "text": [
            "Downloading agricultural-crops-image-classification.zip to /content\n",
            " 89% 70.0M/79.0M [00:00<00:00, 105MB/s]\n",
            "100% 79.0M/79.0M [00:00<00:00, 97.9MB/s]\n"
          ]
        }
      ]
    },
    {
      "cell_type": "code",
      "source": [
        "!unzip \"/content/agricultural-crops-image-classification.zip\" -d /content"
      ],
      "metadata": {
        "id": "M2IxBeR7FmZu",
        "colab": {
          "base_uri": "https://localhost:8080/"
        },
        "outputId": "bd1ee042-c99c-40e1-b56c-653eca7ff02e"
      },
      "execution_count": null,
      "outputs": [
        {
          "output_type": "stream",
          "name": "stdout",
          "text": [
            "Archive:  /content/agricultural-crops-image-classification.zip\n",
            "  inflating: /content/Agricultural-crops/Cherry/image15.jpeg  \n",
            "  inflating: /content/Agricultural-crops/Cherry/image16.jpeg  \n",
            "  inflating: /content/Agricultural-crops/Cherry/image17.jpeg  \n",
            "  inflating: /content/Agricultural-crops/Cherry/image18.jpeg  \n",
            "  inflating: /content/Agricultural-crops/Cherry/image20.jpeg  \n",
            "  inflating: /content/Agricultural-crops/Cherry/image21.jpeg  \n",
            "  inflating: /content/Agricultural-crops/Cherry/image22.jpeg  \n",
            "  inflating: /content/Agricultural-crops/Cherry/image24.jpeg  \n",
            "  inflating: /content/Agricultural-crops/Cherry/image25.jpeg  \n",
            "  inflating: /content/Agricultural-crops/Cherry/image27.jpeg  \n",
            "  inflating: /content/Agricultural-crops/Cherry/image28.jpeg  \n",
            "  inflating: /content/Agricultural-crops/Cherry/image29.jpeg  \n",
            "  inflating: /content/Agricultural-crops/Cherry/image30.jpeg  \n",
            "  inflating: /content/Agricultural-crops/Cherry/image31.jpeg  \n",
            "  inflating: /content/Agricultural-crops/Cherry/images11.jpg  \n",
            "  inflating: /content/Agricultural-crops/Cherry/images16.jpg  \n",
            "  inflating: /content/Agricultural-crops/Cherry/images17.jpg  \n",
            "  inflating: /content/Agricultural-crops/Cherry/images19.jpg  \n",
            "  inflating: /content/Agricultural-crops/Cherry/images20.jpg  \n",
            "  inflating: /content/Agricultural-crops/Cherry/images21.jpg  \n",
            "  inflating: /content/Agricultural-crops/Cherry/images25.jpg  \n",
            "  inflating: /content/Agricultural-crops/Cherry/images27.jpg  \n",
            "  inflating: /content/Agricultural-crops/Cherry/images3.jpg  \n",
            "  inflating: /content/Agricultural-crops/Cherry/images30.jpg  \n",
            "  inflating: /content/Agricultural-crops/Cherry/images37.jpg  \n",
            "  inflating: /content/Agricultural-crops/Cherry/images4.jpg  \n",
            "  inflating: /content/Agricultural-crops/Cherry/images41.jpg  \n",
            "  inflating: /content/Agricultural-crops/Cherry/images42.jpg  \n",
            "  inflating: /content/Agricultural-crops/Cherry/images53.jpg  \n",
            "  inflating: /content/Agricultural-crops/Cherry/images54.jpg  \n",
            "  inflating: /content/Agricultural-crops/Cherry/images8.jpg  \n",
            "  inflating: /content/Agricultural-crops/Cherry/images9.jpg  \n",
            "  inflating: /content/Agricultural-crops/Coffee-plant/images10.jpg  \n",
            "  inflating: /content/Agricultural-crops/Coffee-plant/images13.jpg  \n",
            "  inflating: /content/Agricultural-crops/Coffee-plant/images15.jpg  \n",
            "  inflating: /content/Agricultural-crops/Coffee-plant/images16.jpg  \n",
            "  inflating: /content/Agricultural-crops/Coffee-plant/images24.jpg  \n",
            "  inflating: /content/Agricultural-crops/Coffee-plant/images29.jpg  \n",
            "  inflating: /content/Agricultural-crops/Coffee-plant/images40.jpg  \n",
            "  inflating: /content/Agricultural-crops/Coffee-plant/images41.jpg  \n",
            "  inflating: /content/Agricultural-crops/Coffee-plant/images47.jpg  \n",
            "  inflating: /content/Agricultural-crops/Coffee-plant/images48.jpg  \n",
            "  inflating: /content/Agricultural-crops/Coffee-plant/images50.jpg  \n",
            "  inflating: /content/Agricultural-crops/Coffee-plant/images53.jpg  \n",
            "  inflating: /content/Agricultural-crops/Coffee-plant/images54.jpg  \n",
            "  inflating: /content/Agricultural-crops/Coffee-plant/images55.jpg  \n",
            "  inflating: /content/Agricultural-crops/Coffee-plant/images58.jpg  \n",
            "  inflating: /content/Agricultural-crops/Coffee-plant/images59.jpg  \n",
            "  inflating: /content/Agricultural-crops/Coffee-plant/images61.jpg  \n",
            "  inflating: /content/Agricultural-crops/Coffee-plant/images62.jpg  \n",
            "  inflating: /content/Agricultural-crops/Coffee-plant/images64.jpg  \n",
            "  inflating: /content/Agricultural-crops/Coffee-plant/images67.jpg  \n",
            "  inflating: /content/Agricultural-crops/Coffee-plant/images68.jpg  \n",
            "  inflating: /content/Agricultural-crops/Coffee-plant/images69.jpg  \n",
            "  inflating: /content/Agricultural-crops/Coffee-plant/images7.jpg  \n",
            "  inflating: /content/Agricultural-crops/Coffee-plant/images71.jpg  \n",
            "  inflating: /content/Agricultural-crops/Coffee-plant/images74.jpg  \n",
            "  inflating: /content/Agricultural-crops/Coffee-plant/images77.jpg  \n",
            "  inflating: /content/Agricultural-crops/Coffee-plant/images8.jpg  \n",
            "  inflating: /content/Agricultural-crops/Coffee-plant/images80.jpg  \n",
            "  inflating: /content/Agricultural-crops/Coffee-plant/images9.jpg  \n",
            "  inflating: /content/Agricultural-crops/Cucumber/image (1).jpeg  \n",
            "  inflating: /content/Agricultural-crops/Cucumber/image (1).jpg  \n",
            "  inflating: /content/Agricultural-crops/Cucumber/image (10).jpg  \n",
            "  inflating: /content/Agricultural-crops/Cucumber/image (11).jpg  \n",
            "  inflating: /content/Agricultural-crops/Cucumber/image (12).jpg  \n",
            "  inflating: /content/Agricultural-crops/Cucumber/image (13).jpg  \n",
            "  inflating: /content/Agricultural-crops/Cucumber/image (15).jpg  \n",
            "  inflating: /content/Agricultural-crops/Cucumber/image (16).jpg  \n",
            "  inflating: /content/Agricultural-crops/Cucumber/image (17).jpg  \n",
            "  inflating: /content/Agricultural-crops/Cucumber/image (18).jpg  \n",
            "  inflating: /content/Agricultural-crops/Cucumber/image (19).jpg  \n",
            "  inflating: /content/Agricultural-crops/Cucumber/image (2).jpeg  \n",
            "  inflating: /content/Agricultural-crops/Cucumber/image (2).jpg  \n",
            "  inflating: /content/Agricultural-crops/Cucumber/image (20).jpg  \n",
            "  inflating: /content/Agricultural-crops/Cucumber/image (21).jpg  \n",
            "  inflating: /content/Agricultural-crops/Cucumber/image (22).jpg  \n",
            "  inflating: /content/Agricultural-crops/Cucumber/image (23).jpg  \n",
            "  inflating: /content/Agricultural-crops/Cucumber/image (24).jpg  \n",
            "  inflating: /content/Agricultural-crops/Cucumber/image (25).jpg  \n",
            "  inflating: /content/Agricultural-crops/Cucumber/image (26).jpg  \n",
            "  inflating: /content/Agricultural-crops/Cucumber/image (27).jpg  \n",
            "  inflating: /content/Agricultural-crops/Cucumber/image (28).jpg  \n",
            "  inflating: /content/Agricultural-crops/Cucumber/image (29).jpg  \n",
            "  inflating: /content/Agricultural-crops/Cucumber/image (3).jpg  \n",
            "  inflating: /content/Agricultural-crops/Cucumber/image (30).jpg  \n",
            "  inflating: /content/Agricultural-crops/Cucumber/image (4).jpg  \n",
            "  inflating: /content/Agricultural-crops/Cucumber/image (5).jpg  \n",
            "  inflating: /content/Agricultural-crops/Cucumber/image (6).jpg  \n",
            "  inflating: /content/Agricultural-crops/Cucumber/image (7).jpg  \n",
            "  inflating: /content/Agricultural-crops/Cucumber/image (8).jpg  \n",
            "  inflating: /content/Agricultural-crops/Cucumber/image (9).jpg  \n",
            "  inflating: /content/Agricultural-crops/Fox_nut(Makhana)/image11.jpeg  \n",
            "  inflating: /content/Agricultural-crops/Fox_nut(Makhana)/image15.jpeg  \n",
            "  inflating: /content/Agricultural-crops/Fox_nut(Makhana)/image16.jpeg  \n",
            "  inflating: /content/Agricultural-crops/Fox_nut(Makhana)/image17.jpeg  \n",
            "  inflating: /content/Agricultural-crops/Fox_nut(Makhana)/image18.jpeg  \n",
            "  inflating: /content/Agricultural-crops/Fox_nut(Makhana)/image19.jpeg  \n",
            "  inflating: /content/Agricultural-crops/Fox_nut(Makhana)/image20.jpeg  \n",
            "  inflating: /content/Agricultural-crops/Fox_nut(Makhana)/image21.jpeg  \n",
            "  inflating: /content/Agricultural-crops/Fox_nut(Makhana)/image22.jpeg  \n",
            "  inflating: /content/Agricultural-crops/Fox_nut(Makhana)/image28.jpeg  \n",
            "  inflating: /content/Agricultural-crops/Fox_nut(Makhana)/image31.jpeg  \n",
            "  inflating: /content/Agricultural-crops/Fox_nut(Makhana)/image32.jpeg  \n",
            "  inflating: /content/Agricultural-crops/Fox_nut(Makhana)/image4.jpeg  \n",
            "  inflating: /content/Agricultural-crops/Fox_nut(Makhana)/image5.jpeg  \n",
            "  inflating: /content/Agricultural-crops/Fox_nut(Makhana)/image6.jpeg  \n",
            "  inflating: /content/Agricultural-crops/Fox_nut(Makhana)/image8.jpeg  \n",
            "  inflating: /content/Agricultural-crops/Fox_nut(Makhana)/images11.jpg  \n",
            "  inflating: /content/Agricultural-crops/Fox_nut(Makhana)/images20.jpg  \n",
            "  inflating: /content/Agricultural-crops/Fox_nut(Makhana)/images24.jpg  \n",
            "  inflating: /content/Agricultural-crops/Fox_nut(Makhana)/images29.jpg  \n",
            "  inflating: /content/Agricultural-crops/Fox_nut(Makhana)/images31.jpg  \n",
            "  inflating: /content/Agricultural-crops/Fox_nut(Makhana)/images6.jpg  \n",
            "  inflating: /content/Agricultural-crops/Fox_nut(Makhana)/images9.jpg  \n",
            "  inflating: /content/Agricultural-crops/Lemon/image13.jpeg  \n",
            "  inflating: /content/Agricultural-crops/Lemon/image14.jpeg  \n",
            "  inflating: /content/Agricultural-crops/Lemon/image16.jpeg  \n",
            "  inflating: /content/Agricultural-crops/Lemon/image17.jpeg  \n",
            "  inflating: /content/Agricultural-crops/Lemon/image18.jpeg  \n",
            "  inflating: /content/Agricultural-crops/Lemon/image19.jpeg  \n",
            "  inflating: /content/Agricultural-crops/Lemon/image20.jpeg  \n",
            "  inflating: /content/Agricultural-crops/Lemon/image21.jpeg  \n",
            "  inflating: /content/Agricultural-crops/Lemon/image23.jpeg  \n",
            "  inflating: /content/Agricultural-crops/Lemon/image25.jpeg  \n",
            "  inflating: /content/Agricultural-crops/Lemon/image26.jpeg  \n",
            "  inflating: /content/Agricultural-crops/Lemon/image27.jpeg  \n",
            "  inflating: /content/Agricultural-crops/Lemon/image28.jpeg  \n",
            "  inflating: /content/Agricultural-crops/Lemon/image29.jpeg  \n",
            "  inflating: /content/Agricultural-crops/Lemon/image30.jpeg  \n",
            "  inflating: /content/Agricultural-crops/Lemon/image31.jpeg  \n",
            "  inflating: /content/Agricultural-crops/Lemon/image32.jpeg  \n",
            "  inflating: /content/Agricultural-crops/Lemon/image5.jpeg  \n",
            "  inflating: /content/Agricultural-crops/Lemon/image7.jpeg  \n",
            "  inflating: /content/Agricultural-crops/Lemon/images10.jpg  \n",
            "  inflating: /content/Agricultural-crops/Lemon/images11.jpg  \n",
            "  inflating: /content/Agricultural-crops/Lemon/images20.jpg  \n",
            "  inflating: /content/Agricultural-crops/Lemon/images21.jpg  \n",
            "  inflating: /content/Agricultural-crops/Lemon/images23.jpg  \n",
            "  inflating: /content/Agricultural-crops/Lemon/images24.jpg  \n",
            "  inflating: /content/Agricultural-crops/Lemon/images28.jpg  \n",
            "  inflating: /content/Agricultural-crops/Lemon/images32.jpg  \n",
            "  inflating: /content/Agricultural-crops/Lemon/images34.jpg  \n",
            "  inflating: /content/Agricultural-crops/Olive-tree/image (1).jpeg  \n",
            "  inflating: /content/Agricultural-crops/Olive-tree/image (1).jpg  \n",
            "  inflating: /content/Agricultural-crops/Olive-tree/image (1).png  \n",
            "  inflating: /content/Agricultural-crops/Olive-tree/image (10).jpeg  \n",
            "  inflating: /content/Agricultural-crops/Olive-tree/image (10).jpg  \n",
            "  inflating: /content/Agricultural-crops/Olive-tree/image (11).jpg  \n",
            "  inflating: /content/Agricultural-crops/Olive-tree/image (12).jpg  \n",
            "  inflating: /content/Agricultural-crops/Olive-tree/image (13).jpg  \n",
            "  inflating: /content/Agricultural-crops/Olive-tree/image (14).jpg  \n",
            "  inflating: /content/Agricultural-crops/Olive-tree/image (15).jpg  \n",
            "  inflating: /content/Agricultural-crops/Olive-tree/image (16).jpg  \n",
            "  inflating: /content/Agricultural-crops/Olive-tree/image (17).jpg  \n",
            "  inflating: /content/Agricultural-crops/Olive-tree/image (18).jpg  \n",
            "  inflating: /content/Agricultural-crops/Olive-tree/image (19).jpg  \n",
            "  inflating: /content/Agricultural-crops/Olive-tree/image (2).jpeg  \n",
            "  inflating: /content/Agricultural-crops/Olive-tree/image (2).jpg  \n",
            "  inflating: /content/Agricultural-crops/Olive-tree/image (3).jpeg  \n",
            "  inflating: /content/Agricultural-crops/Olive-tree/image (3).jpg  \n",
            "  inflating: /content/Agricultural-crops/Olive-tree/image (4).jpeg  \n",
            "  inflating: /content/Agricultural-crops/Olive-tree/image (4).jpg  \n",
            "  inflating: /content/Agricultural-crops/Olive-tree/image (5).jpeg  \n",
            "  inflating: /content/Agricultural-crops/Olive-tree/image (5).jpg  \n",
            "  inflating: /content/Agricultural-crops/Olive-tree/image (6).jpeg  \n",
            "  inflating: /content/Agricultural-crops/Olive-tree/image (6).jpg  \n",
            "  inflating: /content/Agricultural-crops/Olive-tree/image (7).jpeg  \n",
            "  inflating: /content/Agricultural-crops/Olive-tree/image (7).jpg  \n",
            "  inflating: /content/Agricultural-crops/Olive-tree/image (8).jpeg  \n",
            "  inflating: /content/Agricultural-crops/Olive-tree/image (8).jpg  \n",
            "  inflating: /content/Agricultural-crops/Olive-tree/image (9).jpeg  \n",
            "  inflating: /content/Agricultural-crops/Olive-tree/image (9).jpg  \n",
            "  inflating: /content/Agricultural-crops/Pearl_millet(bajra)/image (1).jpeg  \n",
            "  inflating: /content/Agricultural-crops/Pearl_millet(bajra)/image (1).jpg  \n",
            "  inflating: /content/Agricultural-crops/Pearl_millet(bajra)/image (1).png  \n",
            "  inflating: /content/Agricultural-crops/Pearl_millet(bajra)/image (12).jpg  \n",
            "  inflating: /content/Agricultural-crops/Pearl_millet(bajra)/image (13).jpg  \n",
            "  inflating: /content/Agricultural-crops/Pearl_millet(bajra)/image (14).jpg  \n",
            "  inflating: /content/Agricultural-crops/Pearl_millet(bajra)/image (15).jpg  \n",
            "  inflating: /content/Agricultural-crops/Pearl_millet(bajra)/image (16).jpg  \n",
            "  inflating: /content/Agricultural-crops/Pearl_millet(bajra)/image (17).jpg  \n",
            "  inflating: /content/Agricultural-crops/Pearl_millet(bajra)/image (18).jpg  \n",
            "  inflating: /content/Agricultural-crops/Pearl_millet(bajra)/image (19).jpg  \n",
            "  inflating: /content/Agricultural-crops/Pearl_millet(bajra)/image (2).jpeg  \n",
            "  inflating: /content/Agricultural-crops/Pearl_millet(bajra)/image (2).jpg  \n",
            "  inflating: /content/Agricultural-crops/Pearl_millet(bajra)/image (23).jpg  \n",
            "  inflating: /content/Agricultural-crops/Pearl_millet(bajra)/image (24).jpg  \n",
            "  inflating: /content/Agricultural-crops/Pearl_millet(bajra)/image (27).jpg  \n",
            "  inflating: /content/Agricultural-crops/Pearl_millet(bajra)/image (3).jpeg  \n",
            "  inflating: /content/Agricultural-crops/Pearl_millet(bajra)/image (3).jpg  \n",
            "  inflating: /content/Agricultural-crops/Pearl_millet(bajra)/image (32).jpg  \n",
            "  inflating: /content/Agricultural-crops/Pearl_millet(bajra)/image (33).jpg  \n",
            "  inflating: /content/Agricultural-crops/Pearl_millet(bajra)/image (4).jpg  \n",
            "  inflating: /content/Agricultural-crops/Pearl_millet(bajra)/image (45).jpg  \n",
            "  inflating: /content/Agricultural-crops/Pearl_millet(bajra)/image (5).jpg  \n",
            "  inflating: /content/Agricultural-crops/Pearl_millet(bajra)/image (50).jpg  \n",
            "  inflating: /content/Agricultural-crops/Pearl_millet(bajra)/image (52).jpg  \n",
            "  inflating: /content/Agricultural-crops/Pearl_millet(bajra)/image (54).jpg  \n",
            "  inflating: /content/Agricultural-crops/Pearl_millet(bajra)/image (56).jpg  \n",
            "  inflating: /content/Agricultural-crops/Pearl_millet(bajra)/image (57).jpg  \n",
            "  inflating: /content/Agricultural-crops/Pearl_millet(bajra)/image (58).jpg  \n",
            "  inflating: /content/Agricultural-crops/Pearl_millet(bajra)/image (59).jpg  \n",
            "  inflating: /content/Agricultural-crops/Pearl_millet(bajra)/image (6).jpg  \n",
            "  inflating: /content/Agricultural-crops/Pearl_millet(bajra)/image (61).jpg  \n",
            "  inflating: /content/Agricultural-crops/Pearl_millet(bajra)/image (63).jpg  \n",
            "  inflating: /content/Agricultural-crops/Pearl_millet(bajra)/image (66).jpg  \n",
            "  inflating: /content/Agricultural-crops/Pearl_millet(bajra)/image (7).jpg  \n",
            "  inflating: /content/Agricultural-crops/Pearl_millet(bajra)/image (75).jpg  \n",
            "  inflating: /content/Agricultural-crops/Pearl_millet(bajra)/image (76).jpg  \n",
            "  inflating: /content/Agricultural-crops/Pearl_millet(bajra)/image (84).jpg  \n",
            "  inflating: /content/Agricultural-crops/Pearl_millet(bajra)/image (95).jpg  \n",
            "  inflating: /content/Agricultural-crops/Tobacco-plant/image10.jpeg  \n",
            "  inflating: /content/Agricultural-crops/Tobacco-plant/image11.jpeg  \n",
            "  inflating: /content/Agricultural-crops/Tobacco-plant/image12.jpeg  \n",
            "  inflating: /content/Agricultural-crops/Tobacco-plant/image13.jpeg  \n",
            "  inflating: /content/Agricultural-crops/Tobacco-plant/image16.jpeg  \n",
            "  inflating: /content/Agricultural-crops/Tobacco-plant/image17.jpeg  \n",
            "  inflating: /content/Agricultural-crops/Tobacco-plant/image18.jpeg  \n",
            "  inflating: /content/Agricultural-crops/Tobacco-plant/image19.jpeg  \n",
            "  inflating: /content/Agricultural-crops/Tobacco-plant/image20.jpeg  \n",
            "  inflating: /content/Agricultural-crops/Tobacco-plant/image4.jpeg  \n",
            "  inflating: /content/Agricultural-crops/Tobacco-plant/image5.jpeg  \n",
            "  inflating: /content/Agricultural-crops/Tobacco-plant/image6.jpeg  \n",
            "  inflating: /content/Agricultural-crops/Tobacco-plant/image7.jpeg  \n",
            "  inflating: /content/Agricultural-crops/Tobacco-plant/image9.jpeg  \n",
            "  inflating: /content/Agricultural-crops/Tobacco-plant/images.jpg  \n",
            "  inflating: /content/Agricultural-crops/Tobacco-plant/images10.jpg  \n",
            "  inflating: /content/Agricultural-crops/Tobacco-plant/images14.jpg  \n",
            "  inflating: /content/Agricultural-crops/Tobacco-plant/images15.jpg  \n",
            "  inflating: /content/Agricultural-crops/Tobacco-plant/images17.jpg  \n",
            "  inflating: /content/Agricultural-crops/Tobacco-plant/images18.jpg  \n",
            "  inflating: /content/Agricultural-crops/Tobacco-plant/images24.jpg  \n",
            "  inflating: /content/Agricultural-crops/Tobacco-plant/images25.jpg  \n",
            "  inflating: /content/Agricultural-crops/Tobacco-plant/images29.jpg  \n",
            "  inflating: /content/Agricultural-crops/Tobacco-plant/images3.jpg  \n",
            "  inflating: /content/Agricultural-crops/Tobacco-plant/images30.jpg  \n",
            "  inflating: /content/Agricultural-crops/Tobacco-plant/images34.jpg  \n",
            "  inflating: /content/Agricultural-crops/Tobacco-plant/images36.jpg  \n",
            "  inflating: /content/Agricultural-crops/Tobacco-plant/images39.jpg  \n",
            "  inflating: /content/Agricultural-crops/Tobacco-plant/images4.jpg  \n",
            "  inflating: /content/Agricultural-crops/Tobacco-plant/images41.jpg  \n",
            "  inflating: /content/Agricultural-crops/Tobacco-plant/images5.jpg  \n",
            "  inflating: /content/Agricultural-crops/Tobacco-plant/images6.jpg  \n",
            "  inflating: /content/Agricultural-crops/Tobacco-plant/images8.jpg  \n",
            "  inflating: /content/Agricultural-crops/almond/image (1).jpg  \n",
            "  inflating: /content/Agricultural-crops/almond/image (1).png  \n",
            "  inflating: /content/Agricultural-crops/almond/image (10).jpg  \n",
            "  inflating: /content/Agricultural-crops/almond/image (11).jpg  \n",
            "  inflating: /content/Agricultural-crops/almond/image (12).jpg  \n",
            "  inflating: /content/Agricultural-crops/almond/image (13).jpg  \n",
            "  inflating: /content/Agricultural-crops/almond/image (14).jpg  \n",
            "  inflating: /content/Agricultural-crops/almond/image (15).jpg  \n",
            "  inflating: /content/Agricultural-crops/almond/image (16).jpg  \n",
            "  inflating: /content/Agricultural-crops/almond/image (17).jpg  \n",
            "  inflating: /content/Agricultural-crops/almond/image (18).jpg  \n",
            "  inflating: /content/Agricultural-crops/almond/image (2).jpg  \n",
            "  inflating: /content/Agricultural-crops/almond/image (2).png  \n",
            "  inflating: /content/Agricultural-crops/almond/image (3).jpg  \n",
            "  inflating: /content/Agricultural-crops/almond/image (3).png  \n",
            "  inflating: /content/Agricultural-crops/almond/image (4).jpg  \n",
            "  inflating: /content/Agricultural-crops/almond/image (5).jpg  \n",
            "  inflating: /content/Agricultural-crops/almond/image (6).jpg  \n",
            "  inflating: /content/Agricultural-crops/almond/image (7).jpg  \n",
            "  inflating: /content/Agricultural-crops/almond/image (8).jpg  \n",
            "  inflating: /content/Agricultural-crops/almond/image (9).jpg  \n",
            "  inflating: /content/Agricultural-crops/banana/image (1).jpeg  \n",
            "  inflating: /content/Agricultural-crops/banana/image (1).png  \n",
            "  inflating: /content/Agricultural-crops/banana/image (10).jpg  \n",
            "  inflating: /content/Agricultural-crops/banana/image (11).jpg  \n",
            "  inflating: /content/Agricultural-crops/banana/image (12).jpg  \n",
            "  inflating: /content/Agricultural-crops/banana/image (13).jpg  \n",
            "  inflating: /content/Agricultural-crops/banana/image (14).jpg  \n",
            "  inflating: /content/Agricultural-crops/banana/image (15).jpg  \n",
            "  inflating: /content/Agricultural-crops/banana/image (16).jpg  \n",
            "  inflating: /content/Agricultural-crops/banana/image (17).jpg  \n",
            "  inflating: /content/Agricultural-crops/banana/image (18).jpg  \n",
            "  inflating: /content/Agricultural-crops/banana/image (19).jpg  \n",
            "  inflating: /content/Agricultural-crops/banana/image (2).jpg  \n",
            "  inflating: /content/Agricultural-crops/banana/image (2).png  \n",
            "  inflating: /content/Agricultural-crops/banana/image (20).jpg  \n",
            "  inflating: /content/Agricultural-crops/banana/image (21).jpg  \n",
            "  inflating: /content/Agricultural-crops/banana/image (22).jpg  \n",
            "  inflating: /content/Agricultural-crops/banana/image (23).jpg  \n",
            "  inflating: /content/Agricultural-crops/banana/image (24).jpg  \n",
            "  inflating: /content/Agricultural-crops/banana/image (25).jpg  \n",
            "  inflating: /content/Agricultural-crops/banana/image (26).jpg  \n",
            "  inflating: /content/Agricultural-crops/banana/image (27).jpg  \n",
            "  inflating: /content/Agricultural-crops/banana/image (28).jpg  \n",
            "  inflating: /content/Agricultural-crops/banana/image (29).jpg  \n",
            "  inflating: /content/Agricultural-crops/banana/image (30).jpg  \n",
            "  inflating: /content/Agricultural-crops/banana/image (4).jpg  \n",
            "  inflating: /content/Agricultural-crops/banana/image (5).jpg  \n",
            "  inflating: /content/Agricultural-crops/banana/image (6).jpg  \n",
            "  inflating: /content/Agricultural-crops/banana/image (7).jpg  \n",
            "  inflating: /content/Agricultural-crops/banana/image (8).jpg  \n",
            "  inflating: /content/Agricultural-crops/banana/image (9).jpg  \n",
            "  inflating: /content/Agricultural-crops/cardamom/image (1).jpeg  \n",
            "  inflating: /content/Agricultural-crops/cardamom/image (1).jpg  \n",
            "  inflating: /content/Agricultural-crops/cardamom/image (10).jpeg  \n",
            "  inflating: /content/Agricultural-crops/cardamom/image (11).jpeg  \n",
            "  inflating: /content/Agricultural-crops/cardamom/image (12).jpeg  \n",
            "  inflating: /content/Agricultural-crops/cardamom/image (13).jpeg  \n",
            "  inflating: /content/Agricultural-crops/cardamom/image (14).jpeg  \n",
            "  inflating: /content/Agricultural-crops/cardamom/image (2).jpeg  \n",
            "  inflating: /content/Agricultural-crops/cardamom/image (2).jpg  \n",
            "  inflating: /content/Agricultural-crops/cardamom/image (3).jpeg  \n",
            "  inflating: /content/Agricultural-crops/cardamom/image (3).jpg  \n",
            "  inflating: /content/Agricultural-crops/cardamom/image (4).jpeg  \n",
            "  inflating: /content/Agricultural-crops/cardamom/image (4).jpg  \n",
            "  inflating: /content/Agricultural-crops/cardamom/image (5).jpeg  \n",
            "  inflating: /content/Agricultural-crops/cardamom/image (5).jpg  \n",
            "  inflating: /content/Agricultural-crops/cardamom/image (6).jpeg  \n",
            "  inflating: /content/Agricultural-crops/cardamom/image (6).jpg  \n",
            "  inflating: /content/Agricultural-crops/cardamom/image (7).jpeg  \n",
            "  inflating: /content/Agricultural-crops/cardamom/image (7).jpg  \n",
            "  inflating: /content/Agricultural-crops/cardamom/image (8).jpeg  \n",
            "  inflating: /content/Agricultural-crops/cardamom/image (8).jpg  \n",
            "  inflating: /content/Agricultural-crops/cardamom/image (9).jpeg  \n",
            "  inflating: /content/Agricultural-crops/chilli/image.jpeg  \n",
            "  inflating: /content/Agricultural-crops/chilli/image10.jpeg  \n",
            "  inflating: /content/Agricultural-crops/chilli/image11.jpeg  \n",
            "  inflating: /content/Agricultural-crops/chilli/image13.jpeg  \n",
            "  inflating: /content/Agricultural-crops/chilli/image14.jpeg  \n",
            "  inflating: /content/Agricultural-crops/chilli/image15.jpeg  \n",
            "  inflating: /content/Agricultural-crops/chilli/image17.jpeg  \n",
            "  inflating: /content/Agricultural-crops/chilli/image18.jpeg  \n",
            "  inflating: /content/Agricultural-crops/chilli/image2.jpeg  \n",
            "  inflating: /content/Agricultural-crops/chilli/image20.jpeg  \n",
            "  inflating: /content/Agricultural-crops/chilli/image22.jpeg  \n",
            "  inflating: /content/Agricultural-crops/chilli/image23.jpeg  \n",
            "  inflating: /content/Agricultural-crops/chilli/image24.jpeg  \n",
            "  inflating: /content/Agricultural-crops/chilli/image25.jpeg  \n",
            "  inflating: /content/Agricultural-crops/chilli/image26.jpeg  \n",
            "  inflating: /content/Agricultural-crops/chilli/image28.jpeg  \n",
            "  inflating: /content/Agricultural-crops/chilli/image29.jpeg  \n",
            "  inflating: /content/Agricultural-crops/chilli/image30.jpeg  \n",
            "  inflating: /content/Agricultural-crops/chilli/image31.jpeg  \n",
            "  inflating: /content/Agricultural-crops/chilli/image4.jpeg  \n",
            "  inflating: /content/Agricultural-crops/chilli/image6.jpeg  \n",
            "  inflating: /content/Agricultural-crops/chilli/image8.jpeg  \n",
            "  inflating: /content/Agricultural-crops/chilli/image9.jpeg  \n",
            "  inflating: /content/Agricultural-crops/clove/image12.jpeg  \n",
            "  inflating: /content/Agricultural-crops/clove/image13.jpeg  \n",
            "  inflating: /content/Agricultural-crops/clove/image14.jpeg  \n",
            "  inflating: /content/Agricultural-crops/clove/image15.jpeg  \n",
            "  inflating: /content/Agricultural-crops/clove/image16.jpeg  \n",
            "  inflating: /content/Agricultural-crops/clove/image17.jpeg  \n",
            "  inflating: /content/Agricultural-crops/clove/image18.jpeg  \n",
            "  inflating: /content/Agricultural-crops/clove/image20.jpeg  \n",
            "  inflating: /content/Agricultural-crops/clove/image21.jpeg  \n",
            "  inflating: /content/Agricultural-crops/clove/image22.jpeg  \n",
            "  inflating: /content/Agricultural-crops/clove/image23.jpeg  \n",
            "  inflating: /content/Agricultural-crops/clove/image26.jpeg  \n",
            "  inflating: /content/Agricultural-crops/clove/image27.jpeg  \n",
            "  inflating: /content/Agricultural-crops/clove/image28.jpeg  \n",
            "  inflating: /content/Agricultural-crops/clove/image4.jpeg  \n",
            "  inflating: /content/Agricultural-crops/clove/images10.jpg  \n",
            "  inflating: /content/Agricultural-crops/clove/images13.jpg  \n",
            "  inflating: /content/Agricultural-crops/clove/images20.jpg  \n",
            "  inflating: /content/Agricultural-crops/clove/images21.jpg  \n",
            "  inflating: /content/Agricultural-crops/clove/images28.jpg  \n",
            "  inflating: /content/Agricultural-crops/clove/images32.jpg  \n",
            "  inflating: /content/Agricultural-crops/clove/images35.jpg  \n",
            "  inflating: /content/Agricultural-crops/clove/images37.jpg  \n",
            "  inflating: /content/Agricultural-crops/clove/images44.jpg  \n",
            "  inflating: /content/Agricultural-crops/clove/images46.jpg  \n",
            "  inflating: /content/Agricultural-crops/clove/images52.jpg  \n",
            "  inflating: /content/Agricultural-crops/clove/images54.jpg  \n",
            "  inflating: /content/Agricultural-crops/clove/images6.jpg  \n",
            "  inflating: /content/Agricultural-crops/clove/images7.jpg  \n",
            "  inflating: /content/Agricultural-crops/clove/images9.jpg  \n",
            "  inflating: /content/Agricultural-crops/coconut/image (1).jpeg  \n",
            "  inflating: /content/Agricultural-crops/coconut/image (1).jpg  \n",
            "  inflating: /content/Agricultural-crops/coconut/image (10).jpg  \n",
            "  inflating: /content/Agricultural-crops/coconut/image (11).jpg  \n",
            "  inflating: /content/Agricultural-crops/coconut/image (12).jpg  \n",
            "  inflating: /content/Agricultural-crops/coconut/image (13).jpg  \n",
            "  inflating: /content/Agricultural-crops/coconut/image (14).jpg  \n",
            "  inflating: /content/Agricultural-crops/coconut/image (16).jpg  \n",
            "  inflating: /content/Agricultural-crops/coconut/image (17).jpg  \n",
            "  inflating: /content/Agricultural-crops/coconut/image (19).jpg  \n",
            "  inflating: /content/Agricultural-crops/coconut/image (2).jpg  \n",
            "  inflating: /content/Agricultural-crops/coconut/image (21).jpg  \n",
            "  inflating: /content/Agricultural-crops/coconut/image (25).jpg  \n",
            "  inflating: /content/Agricultural-crops/coconut/image (26).jpg  \n",
            "  inflating: /content/Agricultural-crops/coconut/image (27).jpg  \n",
            "  inflating: /content/Agricultural-crops/coconut/image (3).jpg  \n",
            "  inflating: /content/Agricultural-crops/coconut/image (31).jpg  \n",
            "  inflating: /content/Agricultural-crops/coconut/image (32).jpg  \n",
            "  inflating: /content/Agricultural-crops/coconut/image (33).jpg  \n",
            "  inflating: /content/Agricultural-crops/coconut/image (4).jpeg  \n",
            "  inflating: /content/Agricultural-crops/coconut/image (5).jpeg  \n",
            "  inflating: /content/Agricultural-crops/coconut/image (5).jpg  \n",
            "  inflating: /content/Agricultural-crops/coconut/image (6).jpeg  \n",
            "  inflating: /content/Agricultural-crops/coconut/image (7).jpeg  \n",
            "  inflating: /content/Agricultural-crops/coconut/image (8).jpg  \n",
            "  inflating: /content/Agricultural-crops/cotton/image (1).jpeg  \n",
            "  inflating: /content/Agricultural-crops/cotton/image (1).jpg  \n",
            "  inflating: /content/Agricultural-crops/cotton/image (1).png  \n",
            "  inflating: /content/Agricultural-crops/cotton/image (11).jpg  \n",
            "  inflating: /content/Agricultural-crops/cotton/image (12).jpg  \n",
            "  inflating: /content/Agricultural-crops/cotton/image (13).jpg  \n",
            "  inflating: /content/Agricultural-crops/cotton/image (16).jpg  \n",
            "  inflating: /content/Agricultural-crops/cotton/image (17).jpg  \n",
            "  inflating: /content/Agricultural-crops/cotton/image (19).jpg  \n",
            "  inflating: /content/Agricultural-crops/cotton/image (2).jpeg  \n",
            "  inflating: /content/Agricultural-crops/cotton/image (2).jpg  \n",
            "  inflating: /content/Agricultural-crops/cotton/image (22).jpg  \n",
            "  inflating: /content/Agricultural-crops/cotton/image (23).jpg  \n",
            "  inflating: /content/Agricultural-crops/cotton/image (24).jpg  \n",
            "  inflating: /content/Agricultural-crops/cotton/image (25).jpg  \n",
            "  inflating: /content/Agricultural-crops/cotton/image (26).jpg  \n",
            "  inflating: /content/Agricultural-crops/cotton/image (27).jpg  \n",
            "  inflating: /content/Agricultural-crops/cotton/image (28).jpg  \n",
            "  inflating: /content/Agricultural-crops/cotton/image (3).jpg  \n",
            "  inflating: /content/Agricultural-crops/cotton/image (30).jpg  \n",
            "  inflating: /content/Agricultural-crops/cotton/image (31).jpg  \n",
            "  inflating: /content/Agricultural-crops/cotton/image (33).jpg  \n",
            "  inflating: /content/Agricultural-crops/cotton/image (34).jpg  \n",
            "  inflating: /content/Agricultural-crops/cotton/image (35).jpg  \n",
            "  inflating: /content/Agricultural-crops/cotton/image (36).jpg  \n",
            "  inflating: /content/Agricultural-crops/cotton/image (37).jpg  \n",
            "  inflating: /content/Agricultural-crops/cotton/image (38).jpg  \n",
            "  inflating: /content/Agricultural-crops/cotton/image (39).jpg  \n",
            "  inflating: /content/Agricultural-crops/cotton/image (5).jpg  \n",
            "  inflating: /content/Agricultural-crops/cotton/image (7).jpg  \n",
            "  inflating: /content/Agricultural-crops/cotton/image (8).jpg  \n",
            "  inflating: /content/Agricultural-crops/cotton/image (9).jpg  \n",
            "  inflating: /content/Agricultural-crops/gram/image (1).jpeg  \n",
            "  inflating: /content/Agricultural-crops/gram/image (1).jpg  \n",
            "  inflating: /content/Agricultural-crops/gram/image (1).png  \n",
            "  inflating: /content/Agricultural-crops/gram/image (11).jpg  \n",
            "  inflating: /content/Agricultural-crops/gram/image (12).jpg  \n",
            "  inflating: /content/Agricultural-crops/gram/image (13).jpg  \n",
            "  inflating: /content/Agricultural-crops/gram/image (14).jpg  \n",
            "  inflating: /content/Agricultural-crops/gram/image (15).jpg  \n",
            "  inflating: /content/Agricultural-crops/gram/image (16).jpg  \n",
            "  inflating: /content/Agricultural-crops/gram/image (17).jpg  \n",
            "  inflating: /content/Agricultural-crops/gram/image (2).jpeg  \n",
            "  inflating: /content/Agricultural-crops/gram/image (2).jpg  \n",
            "  inflating: /content/Agricultural-crops/gram/image (2).png  \n",
            "  inflating: /content/Agricultural-crops/gram/image (3).jpeg  \n",
            "  inflating: /content/Agricultural-crops/gram/image (3).jpg  \n",
            "  inflating: /content/Agricultural-crops/gram/image (4).jpeg  \n",
            "  inflating: /content/Agricultural-crops/gram/image (4).jpg  \n",
            "  inflating: /content/Agricultural-crops/gram/image (5).jpeg  \n",
            "  inflating: /content/Agricultural-crops/gram/image (5).jpg  \n",
            "  inflating: /content/Agricultural-crops/gram/image (6).jpeg  \n",
            "  inflating: /content/Agricultural-crops/gram/image (6).jpg  \n",
            "  inflating: /content/Agricultural-crops/gram/image (7).jpeg  \n",
            "  inflating: /content/Agricultural-crops/gram/image (7).jpg  \n",
            "  inflating: /content/Agricultural-crops/gram/image (8).jpeg  \n",
            "  inflating: /content/Agricultural-crops/gram/image (9).jpg  \n",
            "  inflating: /content/Agricultural-crops/jowar/image (1).jpeg  \n",
            "  inflating: /content/Agricultural-crops/jowar/image (1).jpg  \n",
            "  inflating: /content/Agricultural-crops/jowar/image (10).jpeg  \n",
            "  inflating: /content/Agricultural-crops/jowar/image (10).jpg  \n",
            "  inflating: /content/Agricultural-crops/jowar/image (11).jpg  \n",
            "  inflating: /content/Agricultural-crops/jowar/image (12).jpg  \n",
            "  inflating: /content/Agricultural-crops/jowar/image (13).jpg  \n",
            "  inflating: /content/Agricultural-crops/jowar/image (14).jpg  \n",
            "  inflating: /content/Agricultural-crops/jowar/image (15).jpg  \n",
            "  inflating: /content/Agricultural-crops/jowar/image (16).jpg  \n",
            "  inflating: /content/Agricultural-crops/jowar/image (17).jpg  \n",
            "  inflating: /content/Agricultural-crops/jowar/image (19).jpg  \n",
            "  inflating: /content/Agricultural-crops/jowar/image (2).jpeg  \n",
            "  inflating: /content/Agricultural-crops/jowar/image (2).jpg  \n",
            "  inflating: /content/Agricultural-crops/jowar/image (20).jpg  \n",
            "  inflating: /content/Agricultural-crops/jowar/image (21).jpg  \n",
            "  inflating: /content/Agricultural-crops/jowar/image (3).jpeg  \n",
            "  inflating: /content/Agricultural-crops/jowar/image (3).jpg  \n",
            "  inflating: /content/Agricultural-crops/jowar/image (4).jpeg  \n",
            "  inflating: /content/Agricultural-crops/jowar/image (4).jpg  \n",
            "  inflating: /content/Agricultural-crops/jowar/image (5).jpeg  \n",
            "  inflating: /content/Agricultural-crops/jowar/image (5).jpg  \n",
            "  inflating: /content/Agricultural-crops/jowar/image (6).jpeg  \n",
            "  inflating: /content/Agricultural-crops/jowar/image (6).jpg  \n",
            "  inflating: /content/Agricultural-crops/jowar/image (7).jpeg  \n",
            "  inflating: /content/Agricultural-crops/jowar/image (7).jpg  \n",
            "  inflating: /content/Agricultural-crops/jowar/image (8).jpeg  \n",
            "  inflating: /content/Agricultural-crops/jowar/image (8).jpg  \n",
            "  inflating: /content/Agricultural-crops/jowar/image (9).jpeg  \n",
            "  inflating: /content/Agricultural-crops/jowar/image (9).jpg  \n",
            "  inflating: /content/Agricultural-crops/jute/image (1).jpeg  \n",
            "  inflating: /content/Agricultural-crops/jute/image (1).jpg  \n",
            "  inflating: /content/Agricultural-crops/jute/image (10).jpg  \n",
            "  inflating: /content/Agricultural-crops/jute/image (11).jpg  \n",
            "  inflating: /content/Agricultural-crops/jute/image (12).jpg  \n",
            "  inflating: /content/Agricultural-crops/jute/image (13).jpg  \n",
            "  inflating: /content/Agricultural-crops/jute/image (14).jpg  \n",
            "  inflating: /content/Agricultural-crops/jute/image (15).jpg  \n",
            "  inflating: /content/Agricultural-crops/jute/image (16).jpg  \n",
            "  inflating: /content/Agricultural-crops/jute/image (17).jpg  \n",
            "  inflating: /content/Agricultural-crops/jute/image (18).jpg  \n",
            "  inflating: /content/Agricultural-crops/jute/image (2).jpeg  \n",
            "  inflating: /content/Agricultural-crops/jute/image (2).jpg  \n",
            "  inflating: /content/Agricultural-crops/jute/image (20).jpg  \n",
            "  inflating: /content/Agricultural-crops/jute/image (21).jpg  \n",
            "  inflating: /content/Agricultural-crops/jute/image (3).jpeg  \n",
            "  inflating: /content/Agricultural-crops/jute/image (4).jpeg  \n",
            "  inflating: /content/Agricultural-crops/jute/image (4).jpg  \n",
            "  inflating: /content/Agricultural-crops/jute/image (5).jpeg  \n",
            "  inflating: /content/Agricultural-crops/jute/image (5).jpg  \n",
            "  inflating: /content/Agricultural-crops/jute/image (7).jpg  \n",
            "  inflating: /content/Agricultural-crops/jute/image (8).jpg  \n",
            "  inflating: /content/Agricultural-crops/jute/image (9).jpg  \n",
            "  inflating: /content/Agricultural-crops/maize/image (1).jpeg  \n",
            "  inflating: /content/Agricultural-crops/maize/image (1).jpg  \n",
            "  inflating: /content/Agricultural-crops/maize/image (10).jpg  \n",
            "  inflating: /content/Agricultural-crops/maize/image (11).jpeg  \n",
            "  inflating: /content/Agricultural-crops/maize/image (11).jpg  \n",
            "  inflating: /content/Agricultural-crops/maize/image (12).jpg  \n",
            "  inflating: /content/Agricultural-crops/maize/image (13).jpg  \n",
            "  inflating: /content/Agricultural-crops/maize/image (14).jpg  \n",
            "  inflating: /content/Agricultural-crops/maize/image (18).jpg  \n",
            "  inflating: /content/Agricultural-crops/maize/image (19).jpg  \n",
            "  inflating: /content/Agricultural-crops/maize/image (2).jpeg  \n",
            "  inflating: /content/Agricultural-crops/maize/image (2).jpg  \n",
            "  inflating: /content/Agricultural-crops/maize/image (20).jpg  \n",
            "  inflating: /content/Agricultural-crops/maize/image (21).jpg  \n",
            "  inflating: /content/Agricultural-crops/maize/image (23).jpg  \n",
            "  inflating: /content/Agricultural-crops/maize/image (24).jpg  \n",
            "  inflating: /content/Agricultural-crops/maize/image (25).jpg  \n",
            "  inflating: /content/Agricultural-crops/maize/image (26).jpg  \n",
            "  inflating: /content/Agricultural-crops/maize/image (3).jpeg  \n",
            "  inflating: /content/Agricultural-crops/maize/image (3).jpg  \n",
            "  inflating: /content/Agricultural-crops/maize/image (4).jpeg  \n",
            "  inflating: /content/Agricultural-crops/maize/image (4).jpg  \n",
            "  inflating: /content/Agricultural-crops/maize/image (5).jpeg  \n",
            "  inflating: /content/Agricultural-crops/maize/image (5).jpg  \n",
            "  inflating: /content/Agricultural-crops/maize/image (6).jpeg  \n",
            "  inflating: /content/Agricultural-crops/maize/image (6).jpg  \n",
            "  inflating: /content/Agricultural-crops/maize/image (7).jpeg  \n",
            "  inflating: /content/Agricultural-crops/maize/image (7).jpg  \n",
            "  inflating: /content/Agricultural-crops/maize/image (8).jpeg  \n",
            "  inflating: /content/Agricultural-crops/maize/image (8).jpg  \n",
            "  inflating: /content/Agricultural-crops/maize/image (9).jpeg  \n",
            "  inflating: /content/Agricultural-crops/mustard-oil/image (1).jpeg  \n",
            "  inflating: /content/Agricultural-crops/mustard-oil/image (1).jpg  \n",
            "  inflating: /content/Agricultural-crops/mustard-oil/image (1).png  \n",
            "  inflating: /content/Agricultural-crops/mustard-oil/image (10).jpg  \n",
            "  inflating: /content/Agricultural-crops/mustard-oil/image (11).jpg  \n",
            "  inflating: /content/Agricultural-crops/mustard-oil/image (12).jpg  \n",
            "  inflating: /content/Agricultural-crops/mustard-oil/image (13).jpg  \n",
            "  inflating: /content/Agricultural-crops/mustard-oil/image (14).jpg  \n",
            "  inflating: /content/Agricultural-crops/mustard-oil/image (15).jpg  \n",
            "  inflating: /content/Agricultural-crops/mustard-oil/image (16).jpg  \n",
            "  inflating: /content/Agricultural-crops/mustard-oil/image (17).jpg  \n",
            "  inflating: /content/Agricultural-crops/mustard-oil/image (18).jpg  \n",
            "  inflating: /content/Agricultural-crops/mustard-oil/image (2).jpeg  \n",
            "  inflating: /content/Agricultural-crops/mustard-oil/image (2).jpg  \n",
            "  inflating: /content/Agricultural-crops/mustard-oil/image (2).png  \n",
            "  inflating: /content/Agricultural-crops/mustard-oil/image (3).jpeg  \n",
            "  inflating: /content/Agricultural-crops/mustard-oil/image (3).jpg  \n",
            "  inflating: /content/Agricultural-crops/mustard-oil/image (4).jpeg  \n",
            "  inflating: /content/Agricultural-crops/mustard-oil/image (4).jpg  \n",
            "  inflating: /content/Agricultural-crops/mustard-oil/image (5).jpeg  \n",
            "  inflating: /content/Agricultural-crops/mustard-oil/image (5).jpg  \n",
            "  inflating: /content/Agricultural-crops/mustard-oil/image (6).jpeg  \n",
            "  inflating: /content/Agricultural-crops/mustard-oil/image (6).jpg  \n",
            "  inflating: /content/Agricultural-crops/mustard-oil/image (7).jpeg  \n",
            "  inflating: /content/Agricultural-crops/mustard-oil/image (7).jpg  \n",
            "  inflating: /content/Agricultural-crops/mustard-oil/image (8).jpeg  \n",
            "  inflating: /content/Agricultural-crops/mustard-oil/image (8).jpg  \n",
            "  inflating: /content/Agricultural-crops/mustard-oil/image (9).jpg  \n",
            "  inflating: /content/Agricultural-crops/papaya/image (1).jpeg  \n",
            "  inflating: /content/Agricultural-crops/papaya/image (1).jpg  \n",
            "  inflating: /content/Agricultural-crops/papaya/image (10).jpg  \n",
            "  inflating: /content/Agricultural-crops/papaya/image (11).jpg  \n",
            "  inflating: /content/Agricultural-crops/papaya/image (12).jpg  \n",
            "  inflating: /content/Agricultural-crops/papaya/image (13).jpg  \n",
            "  inflating: /content/Agricultural-crops/papaya/image (14).jpg  \n",
            "  inflating: /content/Agricultural-crops/papaya/image (15).jpg  \n",
            "  inflating: /content/Agricultural-crops/papaya/image (16).jpg  \n",
            "  inflating: /content/Agricultural-crops/papaya/image (17).jpg  \n",
            "  inflating: /content/Agricultural-crops/papaya/image (18).jpg  \n",
            "  inflating: /content/Agricultural-crops/papaya/image (19).jpg  \n",
            "  inflating: /content/Agricultural-crops/papaya/image (20).jpg  \n",
            "  inflating: /content/Agricultural-crops/papaya/image (21).jpg  \n",
            "  inflating: /content/Agricultural-crops/papaya/image (22).jpg  \n",
            "  inflating: /content/Agricultural-crops/papaya/image (23).jpg  \n",
            "  inflating: /content/Agricultural-crops/papaya/image (3).jpg  \n",
            "  inflating: /content/Agricultural-crops/papaya/image (4).jpg  \n",
            "  inflating: /content/Agricultural-crops/papaya/image (5).jpg  \n",
            "  inflating: /content/Agricultural-crops/papaya/image (6).jpg  \n",
            "  inflating: /content/Agricultural-crops/papaya/image (7).jpg  \n",
            "  inflating: /content/Agricultural-crops/papaya/image (8).jpg  \n",
            "  inflating: /content/Agricultural-crops/papaya/image (9).jpg  \n",
            "  inflating: /content/Agricultural-crops/pineapple/image (1).jpg  \n",
            "  inflating: /content/Agricultural-crops/pineapple/image (10).jpg  \n",
            "  inflating: /content/Agricultural-crops/pineapple/image (11).jpg  \n",
            "  inflating: /content/Agricultural-crops/pineapple/image (12).jpg  \n",
            "  inflating: /content/Agricultural-crops/pineapple/image (13).jpg  \n",
            "  inflating: /content/Agricultural-crops/pineapple/image (14).jpg  \n",
            "  inflating: /content/Agricultural-crops/pineapple/image (15).jpg  \n",
            "  inflating: /content/Agricultural-crops/pineapple/image (16).jpg  \n",
            "  inflating: /content/Agricultural-crops/pineapple/image (17).jpg  \n",
            "  inflating: /content/Agricultural-crops/pineapple/image (18).jpg  \n",
            "  inflating: /content/Agricultural-crops/pineapple/image (19).jpg  \n",
            "  inflating: /content/Agricultural-crops/pineapple/image (2).jpg  \n",
            "  inflating: /content/Agricultural-crops/pineapple/image (20).jpg  \n",
            "  inflating: /content/Agricultural-crops/pineapple/image (21).jpg  \n",
            "  inflating: /content/Agricultural-crops/pineapple/image (22).jpg  \n",
            "  inflating: /content/Agricultural-crops/pineapple/image (23).jpg  \n",
            "  inflating: /content/Agricultural-crops/pineapple/image (24).jpg  \n",
            "  inflating: /content/Agricultural-crops/pineapple/image (25).jpg  \n",
            "  inflating: /content/Agricultural-crops/pineapple/image (3).jpg  \n",
            "  inflating: /content/Agricultural-crops/pineapple/image (4).jpg  \n",
            "  inflating: /content/Agricultural-crops/pineapple/image (5).jpg  \n",
            "  inflating: /content/Agricultural-crops/pineapple/image (6).jpg  \n",
            "  inflating: /content/Agricultural-crops/pineapple/image (7).jpg  \n",
            "  inflating: /content/Agricultural-crops/pineapple/image (8).jpg  \n",
            "  inflating: /content/Agricultural-crops/pineapple/image (9).jpg  \n",
            "  inflating: /content/Agricultural-crops/rice/image (1).jpeg  \n",
            "  inflating: /content/Agricultural-crops/rice/image (1).jpg  \n",
            "  inflating: /content/Agricultural-crops/rice/image (1).png  \n",
            "  inflating: /content/Agricultural-crops/rice/image (10).jpeg  \n",
            "  inflating: /content/Agricultural-crops/rice/image (10).jpg  \n",
            "  inflating: /content/Agricultural-crops/rice/image (11).jpeg  \n",
            "  inflating: /content/Agricultural-crops/rice/image (11).jpg  \n",
            "  inflating: /content/Agricultural-crops/rice/image (12).jpeg  \n",
            "  inflating: /content/Agricultural-crops/rice/image (12).jpg  \n",
            "  inflating: /content/Agricultural-crops/rice/image (13).jpg  \n",
            "  inflating: /content/Agricultural-crops/rice/image (14).jpg  \n",
            "  inflating: /content/Agricultural-crops/rice/image (15).jpg  \n",
            "  inflating: /content/Agricultural-crops/rice/image (18).jpg  \n",
            "  inflating: /content/Agricultural-crops/rice/image (19).jpg  \n",
            "  inflating: /content/Agricultural-crops/rice/image (2).jpeg  \n",
            "  inflating: /content/Agricultural-crops/rice/image (20).jpg  \n",
            "  inflating: /content/Agricultural-crops/rice/image (3).jpeg  \n",
            "  inflating: /content/Agricultural-crops/rice/image (3).jpg  \n",
            "  inflating: /content/Agricultural-crops/rice/image (4).jpeg  \n",
            "  inflating: /content/Agricultural-crops/rice/image (4).jpg  \n",
            "  inflating: /content/Agricultural-crops/rice/image (5).jpeg  \n",
            "  inflating: /content/Agricultural-crops/rice/image (5).jpg  \n",
            "  inflating: /content/Agricultural-crops/rice/image (6).jpeg  \n",
            "  inflating: /content/Agricultural-crops/rice/image (6).jpg  \n",
            "  inflating: /content/Agricultural-crops/rice/image (7).jpeg  \n",
            "  inflating: /content/Agricultural-crops/rice/image (7).jpg  \n",
            "  inflating: /content/Agricultural-crops/rice/image (8).jpeg  \n",
            "  inflating: /content/Agricultural-crops/rice/image (8).jpg  \n",
            "  inflating: /content/Agricultural-crops/rice/image (9).jpeg  \n",
            "  inflating: /content/Agricultural-crops/soyabean/imaage (10).jpeg  \n",
            "  inflating: /content/Agricultural-crops/soyabean/imaage (10).jpg  \n",
            "  inflating: /content/Agricultural-crops/soyabean/imaage (11).jpeg  \n",
            "  inflating: /content/Agricultural-crops/soyabean/imaage (11).jpg  \n",
            "  inflating: /content/Agricultural-crops/soyabean/imaage (12).jpeg  \n",
            "  inflating: /content/Agricultural-crops/soyabean/imaage (12).jpg  \n",
            "  inflating: /content/Agricultural-crops/soyabean/imaage (14).jpg  \n",
            "  inflating: /content/Agricultural-crops/soyabean/imaage (15).jpg  \n",
            "  inflating: /content/Agricultural-crops/soyabean/imaage (16).jpg  \n",
            "  inflating: /content/Agricultural-crops/soyabean/imaage (17).jpg  \n",
            "  inflating: /content/Agricultural-crops/soyabean/imaage (2).jpeg  \n",
            "  inflating: /content/Agricultural-crops/soyabean/imaage (2).jpg  \n",
            "  inflating: /content/Agricultural-crops/soyabean/imaage (20).jpg  \n",
            "  inflating: /content/Agricultural-crops/soyabean/imaage (21).jpg  \n",
            "  inflating: /content/Agricultural-crops/soyabean/imaage (24).jpg  \n",
            "  inflating: /content/Agricultural-crops/soyabean/imaage (25).jpg  \n",
            "  inflating: /content/Agricultural-crops/soyabean/imaage (26).jpg  \n",
            "  inflating: /content/Agricultural-crops/soyabean/imaage (27).jpg  \n",
            "  inflating: /content/Agricultural-crops/soyabean/imaage (30).jpg  \n",
            "  inflating: /content/Agricultural-crops/soyabean/imaage (31).jpg  \n",
            "  inflating: /content/Agricultural-crops/soyabean/imaage (4).jpg  \n",
            "  inflating: /content/Agricultural-crops/soyabean/imaage (5).jpeg  \n",
            "  inflating: /content/Agricultural-crops/soyabean/imaage (5).jpg  \n",
            "  inflating: /content/Agricultural-crops/soyabean/imaage (6).jpg  \n",
            "  inflating: /content/Agricultural-crops/soyabean/imaage (7).jpeg  \n",
            "  inflating: /content/Agricultural-crops/soyabean/imaage (7).jpg  \n",
            "  inflating: /content/Agricultural-crops/soyabean/imaage (8).jpeg  \n",
            "  inflating: /content/Agricultural-crops/soyabean/imaage (8).jpg  \n",
            "  inflating: /content/Agricultural-crops/soyabean/imaage (9).jpeg  \n",
            "  inflating: /content/Agricultural-crops/soyabean/imaage (9).jpg  \n",
            "  inflating: /content/Agricultural-crops/sugarcane/image (1).jpeg  \n",
            "  inflating: /content/Agricultural-crops/sugarcane/image (11).jpg  \n",
            "  inflating: /content/Agricultural-crops/sugarcane/image (12).jpg  \n",
            "  inflating: /content/Agricultural-crops/sugarcane/image (13).jpg  \n",
            "  inflating: /content/Agricultural-crops/sugarcane/image (14).jpg  \n",
            "  inflating: /content/Agricultural-crops/sugarcane/image (15).jpg  \n",
            "  inflating: /content/Agricultural-crops/sugarcane/image (16).jpg  \n",
            "  inflating: /content/Agricultural-crops/sugarcane/image (2).jpeg  \n",
            "  inflating: /content/Agricultural-crops/sugarcane/image (2).jpg  \n",
            "  inflating: /content/Agricultural-crops/sugarcane/image (21).jpg  \n",
            "  inflating: /content/Agricultural-crops/sugarcane/image (22).jpg  \n",
            "  inflating: /content/Agricultural-crops/sugarcane/image (25).jpg  \n",
            "  inflating: /content/Agricultural-crops/sugarcane/image (26).jpg  \n",
            "  inflating: /content/Agricultural-crops/sugarcane/image (3).jpg  \n",
            "  inflating: /content/Agricultural-crops/sugarcane/image (4).jpeg  \n",
            "  inflating: /content/Agricultural-crops/sugarcane/image (4).jpg  \n",
            "  inflating: /content/Agricultural-crops/sugarcane/image (5).jpeg  \n",
            "  inflating: /content/Agricultural-crops/sugarcane/image (5).jpg  \n",
            "  inflating: /content/Agricultural-crops/sugarcane/image (6).jpeg  \n",
            "  inflating: /content/Agricultural-crops/sugarcane/image (6).jpg  \n",
            "  inflating: /content/Agricultural-crops/sugarcane/image (7).jpeg  \n",
            "  inflating: /content/Agricultural-crops/sugarcane/image (7).jpg  \n",
            "  inflating: /content/Agricultural-crops/sugarcane/image (8).jpeg  \n",
            "  inflating: /content/Agricultural-crops/sugarcane/image (8).jpg  \n",
            "  inflating: /content/Agricultural-crops/sugarcane/image (9).jpg  \n",
            "  inflating: /content/Agricultural-crops/sunflower/image (1).jpeg  \n",
            "  inflating: /content/Agricultural-crops/sunflower/image (1).jpg  \n",
            "  inflating: /content/Agricultural-crops/sunflower/image (1).png  \n",
            "  inflating: /content/Agricultural-crops/sunflower/image (10).jpg  \n",
            "  inflating: /content/Agricultural-crops/sunflower/image (2).jpg  \n",
            "  inflating: /content/Agricultural-crops/sunflower/image (20).jpg  \n",
            "  inflating: /content/Agricultural-crops/sunflower/image (21).jpg  \n",
            "  inflating: /content/Agricultural-crops/sunflower/image (24).jpg  \n",
            "  inflating: /content/Agricultural-crops/sunflower/image (25).jpg  \n",
            "  inflating: /content/Agricultural-crops/sunflower/image (26).jpg  \n",
            "  inflating: /content/Agricultural-crops/sunflower/image (27).jpg  \n",
            "  inflating: /content/Agricultural-crops/sunflower/image (28).jpg  \n",
            "  inflating: /content/Agricultural-crops/sunflower/image (3).jpeg  \n",
            "  inflating: /content/Agricultural-crops/sunflower/image (3).jpg  \n",
            "  inflating: /content/Agricultural-crops/sunflower/image (30).jpg  \n",
            "  inflating: /content/Agricultural-crops/sunflower/image (31).jpg  \n",
            "  inflating: /content/Agricultural-crops/sunflower/image (32).jpg  \n",
            "  inflating: /content/Agricultural-crops/sunflower/image (4).jpeg  \n",
            "  inflating: /content/Agricultural-crops/sunflower/image (4).jpg  \n",
            "  inflating: /content/Agricultural-crops/sunflower/image (5).jpeg  \n",
            "  inflating: /content/Agricultural-crops/sunflower/image (5).jpg  \n",
            "  inflating: /content/Agricultural-crops/sunflower/image (6).jpg  \n",
            "  inflating: /content/Agricultural-crops/sunflower/image (7).jpg  \n",
            "  inflating: /content/Agricultural-crops/sunflower/image (9).jpg  \n",
            "  inflating: /content/Agricultural-crops/tea/image10.jpeg  \n",
            "  inflating: /content/Agricultural-crops/tea/image12.jpeg  \n",
            "  inflating: /content/Agricultural-crops/tea/image14.jpeg  \n",
            "  inflating: /content/Agricultural-crops/tea/image15.jpeg  \n",
            "  inflating: /content/Agricultural-crops/tea/image17.jpeg  \n",
            "  inflating: /content/Agricultural-crops/tea/image19.jpeg  \n",
            "  inflating: /content/Agricultural-crops/tea/image20.jpeg  \n",
            "  inflating: /content/Agricultural-crops/tea/image24.jpeg  \n",
            "  inflating: /content/Agricultural-crops/tea/image25.jpeg  \n",
            "  inflating: /content/Agricultural-crops/tea/image26.jpeg  \n",
            "  inflating: /content/Agricultural-crops/tea/image27.jpeg  \n",
            "  inflating: /content/Agricultural-crops/tea/image29.jpeg  \n",
            "  inflating: /content/Agricultural-crops/tea/image30.jpeg  \n",
            "  inflating: /content/Agricultural-crops/tea/image32.jpeg  \n",
            "  inflating: /content/Agricultural-crops/tea/image5.jpeg  \n",
            "  inflating: /content/Agricultural-crops/tea/image6.jpeg  \n",
            "  inflating: /content/Agricultural-crops/tea/image7.jpeg  \n",
            "  inflating: /content/Agricultural-crops/tea/image8.jpeg  \n",
            "  inflating: /content/Agricultural-crops/tea/image9.jpeg  \n",
            "  inflating: /content/Agricultural-crops/tea/images2.jpg  \n",
            "  inflating: /content/Agricultural-crops/tea/images5.jpg  \n",
            "  inflating: /content/Agricultural-crops/tea/images7.jpg  \n",
            "  inflating: /content/Agricultural-crops/tea/images8.jpg  \n",
            "  inflating: /content/Agricultural-crops/tomato/image (1).jpeg  \n",
            "  inflating: /content/Agricultural-crops/tomato/image (1).jpg  \n",
            "  inflating: /content/Agricultural-crops/tomato/image (10).jpeg  \n",
            "  inflating: /content/Agricultural-crops/tomato/image (10).jpg  \n",
            "  inflating: /content/Agricultural-crops/tomato/image (11).jpeg  \n",
            "  inflating: /content/Agricultural-crops/tomato/image (12).jpeg  \n",
            "  inflating: /content/Agricultural-crops/tomato/image (13).jpeg  \n",
            "  inflating: /content/Agricultural-crops/tomato/image (14).jpeg  \n",
            "  inflating: /content/Agricultural-crops/tomato/image (15).jpeg  \n",
            "  inflating: /content/Agricultural-crops/tomato/image (16).jpeg  \n",
            "  inflating: /content/Agricultural-crops/tomato/image (2).jpeg  \n",
            "  inflating: /content/Agricultural-crops/tomato/image (2).jpg  \n",
            "  inflating: /content/Agricultural-crops/tomato/image (3).jpeg  \n",
            "  inflating: /content/Agricultural-crops/tomato/image (3).jpg  \n",
            "  inflating: /content/Agricultural-crops/tomato/image (4).jpeg  \n",
            "  inflating: /content/Agricultural-crops/tomato/image (4).jpg  \n",
            "  inflating: /content/Agricultural-crops/tomato/image (5).jpeg  \n",
            "  inflating: /content/Agricultural-crops/tomato/image (5).jpg  \n",
            "  inflating: /content/Agricultural-crops/tomato/image (6).jpeg  \n",
            "  inflating: /content/Agricultural-crops/tomato/image (6).jpg  \n",
            "  inflating: /content/Agricultural-crops/tomato/image (7).jpeg  \n",
            "  inflating: /content/Agricultural-crops/tomato/image (7).jpg  \n",
            "  inflating: /content/Agricultural-crops/tomato/image (8).jpeg  \n",
            "  inflating: /content/Agricultural-crops/tomato/image (8).jpg  \n",
            "  inflating: /content/Agricultural-crops/tomato/image (9).jpeg  \n",
            "  inflating: /content/Agricultural-crops/tomato/image (9).jpg  \n",
            "  inflating: /content/Agricultural-crops/vigna-radiati(Mung)/image (1).jpeg  \n",
            "  inflating: /content/Agricultural-crops/vigna-radiati(Mung)/image (1).jpg  \n",
            "  inflating: /content/Agricultural-crops/vigna-radiati(Mung)/image (13).jpg  \n",
            "  inflating: /content/Agricultural-crops/vigna-radiati(Mung)/image (16).jpg  \n",
            "  inflating: /content/Agricultural-crops/vigna-radiati(Mung)/image (18).jpg  \n",
            "  inflating: /content/Agricultural-crops/vigna-radiati(Mung)/image (19).jpg  \n",
            "  inflating: /content/Agricultural-crops/vigna-radiati(Mung)/image (2).jpeg  \n",
            "  inflating: /content/Agricultural-crops/vigna-radiati(Mung)/image (2).jpg  \n",
            "  inflating: /content/Agricultural-crops/vigna-radiati(Mung)/image (20).jpg  \n",
            "  inflating: /content/Agricultural-crops/vigna-radiati(Mung)/image (22).jpg  \n",
            "  inflating: /content/Agricultural-crops/vigna-radiati(Mung)/image (23).jpg  \n",
            "  inflating: /content/Agricultural-crops/vigna-radiati(Mung)/image (24).jpg  \n",
            "  inflating: /content/Agricultural-crops/vigna-radiati(Mung)/image (25).jpg  \n",
            "  inflating: /content/Agricultural-crops/vigna-radiati(Mung)/image (27).jpg  \n",
            "  inflating: /content/Agricultural-crops/vigna-radiati(Mung)/image (28).jpg  \n",
            "  inflating: /content/Agricultural-crops/vigna-radiati(Mung)/image (3).jpeg  \n",
            "  inflating: /content/Agricultural-crops/vigna-radiati(Mung)/image (35).jpg  \n",
            "  inflating: /content/Agricultural-crops/vigna-radiati(Mung)/image (37).jpg  \n",
            "  inflating: /content/Agricultural-crops/vigna-radiati(Mung)/image (38).jpg  \n",
            "  inflating: /content/Agricultural-crops/vigna-radiati(Mung)/image (39).jpg  \n",
            "  inflating: /content/Agricultural-crops/vigna-radiati(Mung)/image (4).jpeg  \n",
            "  inflating: /content/Agricultural-crops/vigna-radiati(Mung)/image (4).jpg  \n",
            "  inflating: /content/Agricultural-crops/vigna-radiati(Mung)/image (5).jpeg  \n",
            "  inflating: /content/Agricultural-crops/vigna-radiati(Mung)/image (6).jpg  \n",
            "  inflating: /content/Agricultural-crops/vigna-radiati(Mung)/image (7).jpg  \n",
            "  inflating: /content/Agricultural-crops/vigna-radiati(Mung)/image (8).jpg  \n",
            "  inflating: /content/Agricultural-crops/vigna-radiati(Mung)/image (9).jpg  \n",
            "  inflating: /content/Agricultural-crops/wheat/image (1).jpeg  \n",
            "  inflating: /content/Agricultural-crops/wheat/image (10).jpeg  \n",
            "  inflating: /content/Agricultural-crops/wheat/image (11).jpg  \n",
            "  inflating: /content/Agricultural-crops/wheat/image (18).jpg  \n",
            "  inflating: /content/Agricultural-crops/wheat/image (19).jpg  \n",
            "  inflating: /content/Agricultural-crops/wheat/image (2).jpeg  \n",
            "  inflating: /content/Agricultural-crops/wheat/image (29).jpg  \n",
            "  inflating: /content/Agricultural-crops/wheat/image (33).jpg  \n",
            "  inflating: /content/Agricultural-crops/wheat/image (34).jpg  \n",
            "  inflating: /content/Agricultural-crops/wheat/image (35).jpg  \n",
            "  inflating: /content/Agricultural-crops/wheat/image (36).jpg  \n",
            "  inflating: /content/Agricultural-crops/wheat/image (37).jpg  \n",
            "  inflating: /content/Agricultural-crops/wheat/image (38).jpg  \n",
            "  inflating: /content/Agricultural-crops/wheat/image (39).jpg  \n",
            "  inflating: /content/Agricultural-crops/wheat/image (40).jpg  \n",
            "  inflating: /content/Agricultural-crops/wheat/image (41).jpg  \n",
            "  inflating: /content/Agricultural-crops/wheat/image (42).jpg  \n",
            "  inflating: /content/Agricultural-crops/wheat/image (43).jpg  \n",
            "  inflating: /content/Agricultural-crops/wheat/image (44).jpg  \n",
            "  inflating: /content/Agricultural-crops/wheat/image (45).jpg  \n",
            "  inflating: /content/Agricultural-crops/wheat/image (46).jpg  \n",
            "  inflating: /content/Agricultural-crops/wheat/image (48).jpg  \n",
            "  inflating: /content/Agricultural-crops/wheat/image (49).jpg  \n",
            "  inflating: /content/Agricultural-crops/wheat/image (50).jpg  \n",
            "  inflating: /content/Agricultural-crops/wheat/image (51).jpg  \n",
            "  inflating: /content/Agricultural-crops/wheat/image (52).jpg  \n",
            "  inflating: /content/Agricultural-crops/wheat/image (53).jpg  \n",
            "  inflating: /content/Agricultural-crops/wheat/image (6).jpg  \n",
            "  inflating: /content/Agricultural-crops/wheat/image (7).jpeg  \n",
            "  inflating: /content/Agricultural-crops/wheat/image (7).jpg  \n",
            "  inflating: /content/Agricultural-crops/wheat/image (8).jpg  \n"
          ]
        }
      ]
    },
    {
      "cell_type": "markdown",
      "source": [
        "## Import necessary libraries"
      ],
      "metadata": {
        "id": "ziKgNXdo8XHI"
      }
    },
    {
      "cell_type": "code",
      "execution_count": null,
      "metadata": {
        "id": "DUTi6x8yENZ7"
      },
      "outputs": [],
      "source": [
        "import os\n",
        "\n",
        "import matplotlib.pyplot as plt\n",
        "from matplotlib.image import imread\n",
        "#from skimage import io\n",
        "\n",
        "import tensorflow as tf\n",
        "\n",
        "from tensorflow.keras.layers import Dropout, BatchNormalization, GlobalAveragePooling2D\n",
        "from tensorflow.keras.preprocessing.image import ImageDataGenerator\n",
        "from tensorflow.keras.applications import VGG16, ResNet50, InceptionV3"
      ]
    },
    {
      "cell_type": "markdown",
      "source": [
        "## Set up data generators and directories"
      ],
      "metadata": {
        "id": "-ztClm1M90rO"
      }
    },
    {
      "cell_type": "code",
      "execution_count": null,
      "metadata": {
        "id": "eQsv7p5EENZ8"
      },
      "outputs": [],
      "source": [
        "dir = \"./Agricultural-crops\""
      ]
    },
    {
      "cell_type": "code",
      "execution_count": null,
      "metadata": {
        "id": "YiV2QmDVENZ9"
      },
      "outputs": [],
      "source": [
        "datagen = tf.keras.preprocessing.image.ImageDataGenerator(\n",
        "    rescale=1/255.0,\n",
        "    validation_split=0.2,\n",
        "    rotation_range=20,\n",
        "    width_shift_range=0.2,\n",
        "    height_shift_range=0.2,\n",
        "    shear_range=0.2,\n",
        "    zoom_range=0.2,\n",
        "    horizontal_flip=True,\n",
        "    vertical_flip=True,\n",
        "    fill_mode='nearest'\n",
        ")"
      ]
    },
    {
      "cell_type": "code",
      "execution_count": null,
      "metadata": {
        "id": "fFHUKRPcENZ9"
      },
      "outputs": [],
      "source": [
        "HEIGHT = 224\n",
        "WIDTH = 224\n",
        "BATCH_SIZE = 32\n",
        "EPOCHS = 30"
      ]
    },
    {
      "cell_type": "markdown",
      "source": [
        "## Train and validation generators"
      ],
      "metadata": {
        "id": "urliKoHK-FwG"
      }
    },
    {
      "cell_type": "code",
      "execution_count": null,
      "metadata": {
        "colab": {
          "base_uri": "https://localhost:8080/"
        },
        "id": "uToGsqa3ENZ-",
        "outputId": "d1516f85-91f0-4e9c-d446-f09fe786f140"
      },
      "outputs": [
        {
          "output_type": "stream",
          "name": "stdout",
          "text": [
            "Found 674 images belonging to 30 classes.\n",
            "Found 155 images belonging to 30 classes.\n"
          ]
        }
      ],
      "source": [
        "train_generator = datagen.flow_from_directory(directory=dir,\n",
        "                                              target_size=(WIDTH, HEIGHT),\n",
        "                                              batch_size=BATCH_SIZE,\n",
        "                                              class_mode=\"categorical\",\n",
        "                                              shuffle=True,\n",
        "                                              seed=0,\n",
        "                                              subset=\"training\")\n",
        "\n",
        "validation_generator = datagen.flow_from_directory(directory=dir,\n",
        "                                              target_size=(WIDTH, HEIGHT),\n",
        "                                              batch_size=BATCH_SIZE,\n",
        "                                              class_mode=\"categorical\",\n",
        "                                              shuffle=True,\n",
        "                                              seed=0,\n",
        "                                              subset=\"validation\")"
      ]
    },
    {
      "cell_type": "markdown",
      "source": [
        "## Buid and compile the model"
      ],
      "metadata": {
        "id": "CaL7BV7l-NpB"
      }
    },
    {
      "cell_type": "code",
      "source": [
        "# Learning rate scheduler\n",
        "def lr_scheduler(epoch, lr):\n",
        "    if epoch < 10:\n",
        "        return lr\n",
        "    else:\n",
        "        return lr * tf.math.exp(-0.1)\n",
        "\n",
        "lr_schedule = tf.keras.callbacks.LearningRateScheduler(lr_scheduler)"
      ],
      "metadata": {
        "id": "h1D47kfTkMch"
      },
      "execution_count": null,
      "outputs": []
    },
    {
      "cell_type": "code",
      "execution_count": null,
      "metadata": {
        "id": "6-Vp1Ew9ENZ_"
      },
      "outputs": [],
      "source": [
        "model = tf.keras.Sequential([\n",
        "    tf.keras.layers.Conv2D(32, (3,3), activation='relu', input_shape=(WIDTH, HEIGHT, 3)),\n",
        "    tf.keras.layers.MaxPool2D((2,2)),\n",
        "    tf.keras.layers.Conv2D(64, (3,3), activation='relu'),\n",
        "    tf.keras.layers.MaxPool2D((2,2)),\n",
        "    tf.keras.layers.Conv2D(128, (3,3), activation='relu'),\n",
        "    tf.keras.layers.MaxPool2D((2,2)),\n",
        "    tf.keras.layers.Flatten(),\n",
        "    tf.keras.layers.Dense(units=128, activation=\"relu\"),\n",
        "    Dropout(0.5),\n",
        "    tf.keras.layers.Dense(units=30, activation='linear')\n",
        "])"
      ]
    },
    {
      "cell_type": "code",
      "execution_count": null,
      "metadata": {
        "id": "FGhbUQO5ENaA"
      },
      "outputs": [],
      "source": [
        "model.compile(optimizer=tf.keras.optimizers.Adam(),\n",
        "              loss=tf.keras.losses.CategoricalCrossentropy(from_logits=True),\n",
        "              metrics=['accuracy'])"
      ]
    },
    {
      "cell_type": "code",
      "source": [
        "simple_model = tf.keras.Sequential([\n",
        "    tf.keras.layers.Conv2D(32, (3, 3), activation='relu', input_shape=(WIDTH, HEIGHT, 3)),\n",
        "    BatchNormalization(),\n",
        "    tf.keras.layers.MaxPool2D((2, 2)),\n",
        "    tf.keras.layers.Conv2D(64, (3, 3), activation='relu'),\n",
        "    BatchNormalization(),\n",
        "    tf.keras.layers.MaxPool2D((2, 2)),\n",
        "    tf.keras.layers.Conv2D(128, (3, 3), activation='relu'),\n",
        "    BatchNormalization(),\n",
        "    tf.keras.layers.MaxPool2D((2, 2)),\n",
        "    tf.keras.layers.Flatten(),\n",
        "    tf.keras.layers.Dense(units=128, activation=\"relu\"),\n",
        "    Dropout(0.5),\n",
        "    tf.keras.layers.Dense(units=30, activation='softmax')\n",
        "])"
      ],
      "metadata": {
        "id": "O-tA8q4_jKmG"
      },
      "execution_count": null,
      "outputs": []
    },
    {
      "cell_type": "code",
      "source": [
        "simple_model.compile(\n",
        "    optimizer=tf.keras.optimizers.Adam(learning_rate=1e-4),\n",
        "    loss=tf.keras.losses.CategoricalCrossentropy(),\n",
        "    metrics=['accuracy']\n",
        ")"
      ],
      "metadata": {
        "id": "fyBELpnijhxa"
      },
      "execution_count": null,
      "outputs": []
    },
    {
      "cell_type": "code",
      "source": [
        "model=simple_model"
      ],
      "metadata": {
        "id": "dgtU9mubjqPx"
      },
      "execution_count": null,
      "outputs": []
    },
    {
      "cell_type": "code",
      "execution_count": null,
      "metadata": {
        "colab": {
          "base_uri": "https://localhost:8080/"
        },
        "id": "W8Sd6jY2ENaB",
        "outputId": "b47d310d-9e4e-42b4-d3c9-09b8ce6988be"
      },
      "outputs": [
        {
          "output_type": "stream",
          "name": "stdout",
          "text": [
            "Model: \"sequential_4\"\n",
            "_________________________________________________________________\n",
            " Layer (type)                Output Shape              Param #   \n",
            "=================================================================\n",
            " conv2d_285 (Conv2D)         (None, 222, 222, 32)      896       \n",
            "                                                                 \n",
            " batch_normalization_285 (B  (None, 222, 222, 32)      128       \n",
            " atchNormalization)                                              \n",
            "                                                                 \n",
            " max_pooling2d_15 (MaxPooli  (None, 111, 111, 32)      0         \n",
            " ng2D)                                                           \n",
            "                                                                 \n",
            " conv2d_286 (Conv2D)         (None, 109, 109, 64)      18496     \n",
            "                                                                 \n",
            " batch_normalization_286 (B  (None, 109, 109, 64)      256       \n",
            " atchNormalization)                                              \n",
            "                                                                 \n",
            " max_pooling2d_16 (MaxPooli  (None, 54, 54, 64)        0         \n",
            " ng2D)                                                           \n",
            "                                                                 \n",
            " conv2d_287 (Conv2D)         (None, 52, 52, 128)       73856     \n",
            "                                                                 \n",
            " batch_normalization_287 (B  (None, 52, 52, 128)       512       \n",
            " atchNormalization)                                              \n",
            "                                                                 \n",
            " max_pooling2d_17 (MaxPooli  (None, 26, 26, 128)       0         \n",
            " ng2D)                                                           \n",
            "                                                                 \n",
            " flatten_1 (Flatten)         (None, 86528)             0         \n",
            "                                                                 \n",
            " dense_8 (Dense)             (None, 128)               11075712  \n",
            "                                                                 \n",
            " dropout_7 (Dropout)         (None, 128)               0         \n",
            "                                                                 \n",
            " dense_9 (Dense)             (None, 30)                3870      \n",
            "                                                                 \n",
            "=================================================================\n",
            "Total params: 11173726 (42.62 MB)\n",
            "Trainable params: 11173278 (42.62 MB)\n",
            "Non-trainable params: 448 (1.75 KB)\n",
            "_________________________________________________________________\n"
          ]
        }
      ],
      "source": [
        "model.summary()\n"
      ]
    },
    {
      "cell_type": "markdown",
      "source": [
        "## Train the model"
      ],
      "metadata": {
        "id": "4B90ZhuZ-mNO"
      }
    },
    {
      "cell_type": "code",
      "execution_count": null,
      "metadata": {
        "colab": {
          "base_uri": "https://localhost:8080/"
        },
        "id": "wPu_LKH6ENaC",
        "outputId": "63526db2-5c0f-4fd0-f025-9b123bf870a2"
      },
      "outputs": [
        {
          "output_type": "stream",
          "name": "stdout",
          "text": [
            "Epoch 1/30\n",
            "22/22 [==============================] - 15s 404ms/step - loss: 3.5254 - accuracy: 0.0267 - val_loss: 3.4010 - val_accuracy: 0.0516\n",
            "Epoch 2/30\n",
            "22/22 [==============================] - 7s 299ms/step - loss: 3.4024 - accuracy: 0.0371 - val_loss: 3.3987 - val_accuracy: 0.0323\n",
            "Epoch 3/30\n",
            "22/22 [==============================] - 8s 381ms/step - loss: 3.3986 - accuracy: 0.0386 - val_loss: 3.3917 - val_accuracy: 0.0387\n",
            "Epoch 4/30\n",
            "22/22 [==============================] - 12s 571ms/step - loss: 3.3693 - accuracy: 0.0445 - val_loss: 3.3661 - val_accuracy: 0.0645\n",
            "Epoch 5/30\n",
            "22/22 [==============================] - 13s 622ms/step - loss: 3.3162 - accuracy: 0.0638 - val_loss: 3.3442 - val_accuracy: 0.0839\n",
            "Epoch 6/30\n",
            "22/22 [==============================] - 9s 411ms/step - loss: 3.2640 - accuracy: 0.0875 - val_loss: 3.3217 - val_accuracy: 0.1032\n",
            "Epoch 7/30\n",
            "22/22 [==============================] - 9s 411ms/step - loss: 3.2154 - accuracy: 0.1039 - val_loss: 3.2616 - val_accuracy: 0.1097\n",
            "Epoch 8/30\n",
            "22/22 [==============================] - 7s 330ms/step - loss: 3.2084 - accuracy: 0.0935 - val_loss: 3.1705 - val_accuracy: 0.0968\n",
            "Epoch 9/30\n",
            "22/22 [==============================] - 6s 292ms/step - loss: 3.1480 - accuracy: 0.1113 - val_loss: 3.1553 - val_accuracy: 0.0839\n",
            "Epoch 10/30\n",
            "22/22 [==============================] - 8s 374ms/step - loss: 3.1331 - accuracy: 0.0920 - val_loss: 3.1253 - val_accuracy: 0.1226\n",
            "Epoch 11/30\n",
            "22/22 [==============================] - 7s 300ms/step - loss: 3.1418 - accuracy: 0.1039 - val_loss: 3.1650 - val_accuracy: 0.1032\n",
            "Epoch 12/30\n",
            "22/22 [==============================] - 8s 383ms/step - loss: 3.1134 - accuracy: 0.1187 - val_loss: 3.1787 - val_accuracy: 0.0968\n",
            "Epoch 13/30\n",
            "22/22 [==============================] - 6s 294ms/step - loss: 3.0888 - accuracy: 0.1202 - val_loss: 3.1083 - val_accuracy: 0.1161\n",
            "Epoch 14/30\n",
            "22/22 [==============================] - 8s 376ms/step - loss: 3.0447 - accuracy: 0.1335 - val_loss: 3.1249 - val_accuracy: 0.1226\n",
            "Epoch 15/30\n",
            "22/22 [==============================] - 7s 317ms/step - loss: 3.0220 - accuracy: 0.1202 - val_loss: 3.0527 - val_accuracy: 0.1290\n",
            "Epoch 16/30\n",
            "22/22 [==============================] - 8s 375ms/step - loss: 2.9702 - accuracy: 0.1380 - val_loss: 2.9569 - val_accuracy: 0.1484\n",
            "Epoch 17/30\n",
            "22/22 [==============================] - 7s 305ms/step - loss: 2.9616 - accuracy: 0.1662 - val_loss: 2.9601 - val_accuracy: 0.1419\n",
            "Epoch 18/30\n",
            "22/22 [==============================] - 6s 290ms/step - loss: 2.8618 - accuracy: 0.1647 - val_loss: 2.9232 - val_accuracy: 0.1355\n",
            "Epoch 19/30\n",
            "22/22 [==============================] - 8s 379ms/step - loss: 2.8005 - accuracy: 0.1869 - val_loss: 2.8769 - val_accuracy: 0.1613\n",
            "Epoch 20/30\n",
            "22/22 [==============================] - 7s 310ms/step - loss: 2.7444 - accuracy: 0.1929 - val_loss: 2.7724 - val_accuracy: 0.1806\n",
            "Epoch 21/30\n",
            "22/22 [==============================] - 8s 377ms/step - loss: 2.7476 - accuracy: 0.1929 - val_loss: 2.7481 - val_accuracy: 0.2323\n",
            "Epoch 22/30\n",
            "22/22 [==============================] - 6s 289ms/step - loss: 2.6980 - accuracy: 0.2196 - val_loss: 2.7155 - val_accuracy: 0.1935\n",
            "Epoch 23/30\n",
            "22/22 [==============================] - 6s 291ms/step - loss: 2.7070 - accuracy: 0.2018 - val_loss: 2.7772 - val_accuracy: 0.1871\n",
            "Epoch 24/30\n",
            "22/22 [==============================] - 8s 388ms/step - loss: 2.7212 - accuracy: 0.2107 - val_loss: 2.6986 - val_accuracy: 0.1806\n",
            "Epoch 25/30\n",
            "22/22 [==============================] - 6s 292ms/step - loss: 2.6152 - accuracy: 0.2315 - val_loss: 2.6523 - val_accuracy: 0.2065\n",
            "Epoch 26/30\n",
            "22/22 [==============================] - 6s 297ms/step - loss: 2.6059 - accuracy: 0.2196 - val_loss: 2.6532 - val_accuracy: 0.2194\n",
            "Epoch 27/30\n",
            "22/22 [==============================] - 9s 390ms/step - loss: 2.5305 - accuracy: 0.2463 - val_loss: 2.6757 - val_accuracy: 0.2516\n",
            "Epoch 28/30\n",
            "22/22 [==============================] - 8s 363ms/step - loss: 2.5981 - accuracy: 0.2433 - val_loss: 2.6271 - val_accuracy: 0.2645\n",
            "Epoch 29/30\n",
            "22/22 [==============================] - 8s 383ms/step - loss: 2.4518 - accuracy: 0.2493 - val_loss: 2.5313 - val_accuracy: 0.2645\n",
            "Epoch 30/30\n",
            "22/22 [==============================] - 8s 378ms/step - loss: 2.4691 - accuracy: 0.2789 - val_loss: 2.5348 - val_accuracy: 0.2581\n"
          ]
        }
      ],
      "source": [
        "history = model.fit(train_generator,\n",
        "                    validation_data = validation_generator,\n",
        "                    epochs=EPOCHS)\n"
      ]
    },
    {
      "cell_type": "code",
      "source": [
        "history = model.fit(\n",
        "    train_generator,\n",
        "    validation_data=validation_generator,\n",
        "    epochs=EPOCHS,\n",
        "    callbacks=[lr_schedule]\n",
        ")"
      ],
      "metadata": {
        "colab": {
          "base_uri": "https://localhost:8080/"
        },
        "id": "PuwtUK5zj_gM",
        "outputId": "4ef17613-c0db-4bb5-d5a7-69f81de215eb"
      },
      "execution_count": null,
      "outputs": [
        {
          "output_type": "stream",
          "name": "stdout",
          "text": [
            "Epoch 1/30\n",
            "22/22 [==============================] - 21s 666ms/step - loss: 4.2397 - accuracy: 0.0579 - val_loss: 4.3457 - val_accuracy: 0.0323 - lr: 1.0000e-04\n",
            "Epoch 2/30\n",
            "22/22 [==============================] - 15s 685ms/step - loss: 3.3677 - accuracy: 0.0564 - val_loss: 7.9165 - val_accuracy: 0.0323 - lr: 1.0000e-04\n",
            "Epoch 3/30\n",
            "22/22 [==============================] - 14s 647ms/step - loss: 3.3962 - accuracy: 0.0519 - val_loss: 12.2212 - val_accuracy: 0.0323 - lr: 1.0000e-04\n",
            "Epoch 4/30\n",
            "22/22 [==============================] - 14s 644ms/step - loss: 3.4175 - accuracy: 0.0549 - val_loss: 14.4796 - val_accuracy: 0.0323 - lr: 1.0000e-04\n",
            "Epoch 5/30\n",
            "22/22 [==============================] - 14s 654ms/step - loss: 3.4214 - accuracy: 0.0608 - val_loss: 14.8696 - val_accuracy: 0.0323 - lr: 1.0000e-04\n",
            "Epoch 6/30\n",
            "22/22 [==============================] - 14s 654ms/step - loss: 3.3049 - accuracy: 0.0623 - val_loss: 15.0643 - val_accuracy: 0.0323 - lr: 1.0000e-04\n",
            "Epoch 7/30\n",
            "22/22 [==============================] - 14s 661ms/step - loss: 3.3732 - accuracy: 0.0653 - val_loss: 13.6781 - val_accuracy: 0.0323 - lr: 1.0000e-04\n",
            "Epoch 8/30\n",
            "22/22 [==============================] - 14s 663ms/step - loss: 3.3300 - accuracy: 0.0549 - val_loss: 12.1263 - val_accuracy: 0.0323 - lr: 1.0000e-04\n",
            "Epoch 9/30\n",
            "22/22 [==============================] - 17s 774ms/step - loss: 3.3081 - accuracy: 0.0742 - val_loss: 10.6898 - val_accuracy: 0.0452 - lr: 1.0000e-04\n",
            "Epoch 10/30\n",
            "22/22 [==============================] - 14s 659ms/step - loss: 3.3147 - accuracy: 0.0742 - val_loss: 9.7669 - val_accuracy: 0.0516 - lr: 1.0000e-04\n",
            "Epoch 11/30\n",
            "22/22 [==============================] - 14s 645ms/step - loss: 3.3300 - accuracy: 0.0727 - val_loss: 9.6149 - val_accuracy: 0.0452 - lr: 9.0484e-05\n",
            "Epoch 12/30\n",
            "22/22 [==============================] - 14s 642ms/step - loss: 3.3176 - accuracy: 0.0831 - val_loss: 9.3853 - val_accuracy: 0.0323 - lr: 8.1873e-05\n",
            "Epoch 13/30\n",
            "22/22 [==============================] - 14s 647ms/step - loss: 3.3425 - accuracy: 0.0668 - val_loss: 11.2881 - val_accuracy: 0.0452 - lr: 7.4082e-05\n",
            "Epoch 14/30\n",
            "22/22 [==============================] - 14s 655ms/step - loss: 3.2798 - accuracy: 0.0668 - val_loss: 10.1585 - val_accuracy: 0.0452 - lr: 6.7032e-05\n",
            "Epoch 15/30\n",
            "22/22 [==============================] - 14s 648ms/step - loss: 3.3100 - accuracy: 0.0757 - val_loss: 8.9558 - val_accuracy: 0.0581 - lr: 6.0653e-05\n",
            "Epoch 16/30\n",
            "22/22 [==============================] - 15s 686ms/step - loss: 3.2756 - accuracy: 0.0831 - val_loss: 7.7638 - val_accuracy: 0.0387 - lr: 5.4881e-05\n",
            "Epoch 17/30\n",
            "22/22 [==============================] - 14s 658ms/step - loss: 3.2598 - accuracy: 0.0742 - val_loss: 6.9418 - val_accuracy: 0.0452 - lr: 4.9659e-05\n",
            "Epoch 18/30\n",
            "22/22 [==============================] - 14s 649ms/step - loss: 3.2399 - accuracy: 0.0786 - val_loss: 5.9839 - val_accuracy: 0.0710 - lr: 4.4933e-05\n",
            "Epoch 19/30\n",
            "22/22 [==============================] - 14s 650ms/step - loss: 3.3209 - accuracy: 0.0861 - val_loss: 5.2480 - val_accuracy: 0.0645 - lr: 4.0657e-05\n",
            "Epoch 20/30\n",
            "22/22 [==============================] - 16s 708ms/step - loss: 3.2715 - accuracy: 0.0890 - val_loss: 4.6502 - val_accuracy: 0.0903 - lr: 3.6788e-05\n",
            "Epoch 21/30\n",
            "22/22 [==============================] - 14s 658ms/step - loss: 3.2203 - accuracy: 0.0890 - val_loss: 4.5769 - val_accuracy: 0.0839 - lr: 3.3287e-05\n",
            "Epoch 22/30\n",
            "22/22 [==============================] - 14s 656ms/step - loss: 3.2093 - accuracy: 0.1009 - val_loss: 4.2482 - val_accuracy: 0.0839 - lr: 3.0119e-05\n",
            "Epoch 23/30\n",
            "22/22 [==============================] - 16s 733ms/step - loss: 3.1955 - accuracy: 0.0979 - val_loss: 3.9056 - val_accuracy: 0.0968 - lr: 2.7253e-05\n",
            "Epoch 24/30\n",
            "22/22 [==============================] - 14s 662ms/step - loss: 3.1608 - accuracy: 0.0950 - val_loss: 3.7611 - val_accuracy: 0.0774 - lr: 2.4660e-05\n",
            "Epoch 25/30\n",
            "22/22 [==============================] - 14s 661ms/step - loss: 3.1840 - accuracy: 0.0890 - val_loss: 3.7328 - val_accuracy: 0.0839 - lr: 2.2313e-05\n",
            "Epoch 26/30\n",
            "22/22 [==============================] - 14s 649ms/step - loss: 3.1768 - accuracy: 0.0964 - val_loss: 3.5554 - val_accuracy: 0.0645 - lr: 2.0190e-05\n",
            "Epoch 27/30\n",
            "22/22 [==============================] - 14s 664ms/step - loss: 3.1901 - accuracy: 0.0994 - val_loss: 3.4873 - val_accuracy: 0.1032 - lr: 1.8268e-05\n",
            "Epoch 28/30\n",
            "22/22 [==============================] - 14s 661ms/step - loss: 3.1607 - accuracy: 0.0935 - val_loss: 3.5622 - val_accuracy: 0.0968 - lr: 1.6530e-05\n",
            "Epoch 29/30\n",
            "22/22 [==============================] - 15s 667ms/step - loss: 3.1115 - accuracy: 0.1083 - val_loss: 3.3508 - val_accuracy: 0.0774 - lr: 1.4957e-05\n",
            "Epoch 30/30\n",
            "22/22 [==============================] - 14s 643ms/step - loss: 3.1347 - accuracy: 0.1202 - val_loss: 3.3597 - val_accuracy: 0.0903 - lr: 1.3534e-05\n"
          ]
        }
      ]
    },
    {
      "cell_type": "markdown",
      "source": [
        "## Visualize training history"
      ],
      "metadata": {
        "id": "Kr-RwW3f-xFI"
      }
    },
    {
      "cell_type": "code",
      "source": [
        "plt.plot(history.history['accuracy'])\n",
        "plt.plot(history.history['val_accuracy'])\n",
        "plt.ylabel('accuracy')\n",
        "plt.xlabel('epoch')\n",
        "plt.legend(['train', 'val'], loc='upper left')\n",
        "plt.show()"
      ],
      "metadata": {
        "colab": {
          "base_uri": "https://localhost:8080/",
          "height": 449
        },
        "id": "Wa7wV6Y3GLXP",
        "outputId": "4db879d9-7797-4a9c-df12-72c16e44cce7"
      },
      "execution_count": null,
      "outputs": [
        {
          "output_type": "display_data",
          "data": {
            "text/plain": [
              "<Figure size 640x480 with 1 Axes>"
            ],
            "image/png": "[encoded data removed]"
          },
          "metadata": {}
        }
      ]
    },
    {
      "cell_type": "markdown",
      "source": [
        "## Loss Plot"
      ],
      "metadata": {
        "id": "79dkGneX-5Mh"
      }
    },
    {
      "cell_type": "code",
      "source": [
        "plt.plot(history.history['loss'])\n",
        "plt.plot(history.history['val_loss'])\n",
        "plt.ylabel('loss')\n",
        "plt.xlabel('epoch')\n",
        "plt.legend(['train', 'val'], loc='upper left')\n",
        "plt.show()"
      ],
      "metadata": {
        "colab": {
          "base_uri": "https://localhost:8080/",
          "height": 449
        },
        "id": "k6jMppN4HjZB",
        "outputId": "3281dd3e-09b4-45b7-d5d4-72567315ed70"
      },
      "execution_count": null,
      "outputs": [
        {
          "output_type": "display_data",
          "data": {
            "text/plain": [
              "<Figure size 640x480 with 1 Axes>"
            ],
            "image/png": "[encoded data removed]"
          },
          "metadata": {}
        }
      ]
    },
    {
      "cell_type": "markdown",
      "source": [
        "### Through ResNet50 model"
      ],
      "metadata": {
        "id": "mH2k5RuuCUMi"
      }
    },
    {
      "cell_type": "code",
      "source": [
        "from tensorflow.keras.applications import ResNet50\n",
        "from tensorflow.keras.layers import GlobalAveragePooling2D"
      ],
      "metadata": {
        "id": "Mqxa2Je9CabB"
      },
      "execution_count": null,
      "outputs": []
    },
    {
      "cell_type": "code",
      "source": [
        "base_model = ResNet50(weights='imagenet', include_top=False, input_shape=(WIDTH, HEIGHT, 3))\n",
        "base_model.trainable = False\n",
        "\n",
        "resnet_model = tf.keras.Sequential([\n",
        "    base_model,\n",
        "    GlobalAveragePooling2D(),\n",
        "    Dropout(0.5),\n",
        "    tf.keras.layers.Dense(units=128, activation=\"relu\"),\n",
        "    Dropout(0.5),\n",
        "    tf.keras.layers.Dense(units=30, activation='softmax')\n",
        "])"
      ],
      "metadata": {
        "colab": {
          "base_uri": "https://localhost:8080/"
        },
        "id": "wpF8UYwUCdT7",
        "outputId": "0f725fc1-701f-481d-857f-c1d1c829784b"
      },
      "execution_count": null,
      "outputs": [
        {
          "output_type": "stream",
          "name": "stdout",
          "text": [
            "Downloading data from https://storage.googleapis.com/tensorflow/keras-applications/resnet/resnet50_weights_tf_dim_ordering_tf_kernels_notop.h5\n",
            "94765736/94765736 [==============================] - 0s 0us/step\n"
          ]
        }
      ]
    },
    {
      "cell_type": "code",
      "source": [
        "resnet_model.compile(\n",
        "    optimizer=tf.keras.optimizers.Adam(learning_rate=1e-4),\n",
        "    loss=tf.keras.losses.CategoricalCrossentropy(from_logits=False),\n",
        "    metrics=['accuracy']\n",
        ")"
      ],
      "metadata": {
        "id": "twkyS0ttCh51"
      },
      "execution_count": null,
      "outputs": []
    },
    {
      "cell_type": "code",
      "source": [
        "resnet_model.summary()"
      ],
      "metadata": {
        "colab": {
          "base_uri": "https://localhost:8080/"
        },
        "id": "AWcnMXsLDY0t",
        "outputId": "6bd69cf8-6239-44cf-aa41-c2a869097ad2"
      },
      "execution_count": null,
      "outputs": [
        {
          "output_type": "stream",
          "name": "stdout",
          "text": [
            "Model: \"sequential_1\"\n",
            "_________________________________________________________________\n",
            " Layer (type)                Output Shape              Param #   \n",
            "=================================================================\n",
            " resnet50 (Functional)       (None, 4, 4, 2048)        23587712  \n",
            "                                                                 \n",
            " global_average_pooling2d (  (None, 2048)              0         \n",
            " GlobalAveragePooling2D)                                         \n",
            "                                                                 \n",
            " dropout_1 (Dropout)         (None, 2048)              0         \n",
            "                                                                 \n",
            " dense_2 (Dense)             (None, 128)               262272    \n",
            "                                                                 \n",
            " dropout_2 (Dropout)         (None, 128)               0         \n",
            "                                                                 \n",
            " dense_3 (Dense)             (None, 30)                3870      \n",
            "                                                                 \n",
            "=================================================================\n",
            "Total params: 23853854 (91.00 MB)\n",
            "Trainable params: 266142 (1.02 MB)\n",
            "Non-trainable params: 23587712 (89.98 MB)\n",
            "_________________________________________________________________\n"
          ]
        }
      ]
    },
    {
      "cell_type": "code",
      "source": [
        "# Learning rate scheduler\n",
        "def lr_scheduler(epoch, lr):\n",
        "    if epoch < 10:\n",
        "        return lr\n",
        "    else:\n",
        "        return lr * tf.math.exp(-0.1)"
      ],
      "metadata": {
        "id": "f0Hm3Tp6DeXn"
      },
      "execution_count": null,
      "outputs": []
    },
    {
      "cell_type": "code",
      "source": [
        "lr_schedule = tf.keras.callbacks.LearningRateScheduler(lr_scheduler)"
      ],
      "metadata": {
        "id": "hXvU46M_DlhY"
      },
      "execution_count": null,
      "outputs": []
    },
    {
      "cell_type": "code",
      "source": [
        "# Train the model with the new architecture\n",
        "\n",
        "resnet_history = resnet_model.fit(\n",
        "    train_generator,\n",
        "    validation_data=validation_generator,\n",
        "    epochs=EPOCHS,\n",
        "    callbacks=[lr_schedule]\n",
        ")"
      ],
      "metadata": {
        "colab": {
          "base_uri": "https://localhost:8080/"
        },
        "id": "nJ3KODAWDse0",
        "outputId": "c22fef28-d674-45e6-a7b4-4cd944bd6120"
      },
      "execution_count": null,
      "outputs": [
        {
          "output_type": "stream",
          "name": "stdout",
          "text": [
            "Epoch 1/30\n",
            "22/22 [==============================] - 15s 480ms/step - loss: 3.9713 - accuracy: 0.0326 - val_loss: 3.5462 - val_accuracy: 0.0387 - lr: 1.0000e-04\n",
            "Epoch 2/30\n",
            "22/22 [==============================] - 9s 422ms/step - loss: 3.9202 - accuracy: 0.0401 - val_loss: 3.5022 - val_accuracy: 0.0387 - lr: 1.0000e-04\n",
            "Epoch 3/30\n",
            "22/22 [==============================] - 7s 322ms/step - loss: 3.7862 - accuracy: 0.0415 - val_loss: 3.4738 - val_accuracy: 0.0387 - lr: 1.0000e-04\n",
            "Epoch 4/30\n",
            "22/22 [==============================] - 9s 402ms/step - loss: 3.8093 - accuracy: 0.0326 - val_loss: 3.4551 - val_accuracy: 0.0387 - lr: 1.0000e-04\n",
            "Epoch 5/30\n",
            "22/22 [==============================] - 7s 327ms/step - loss: 3.6825 - accuracy: 0.0252 - val_loss: 3.4384 - val_accuracy: 0.0452 - lr: 1.0000e-04\n",
            "Epoch 6/30\n",
            "22/22 [==============================] - 8s 346ms/step - loss: 3.6562 - accuracy: 0.0267 - val_loss: 3.4313 - val_accuracy: 0.0387 - lr: 1.0000e-04\n",
            "Epoch 7/30\n",
            "22/22 [==============================] - 9s 398ms/step - loss: 3.6593 - accuracy: 0.0312 - val_loss: 3.4208 - val_accuracy: 0.0387 - lr: 1.0000e-04\n",
            "Epoch 8/30\n",
            "22/22 [==============================] - 7s 317ms/step - loss: 3.6641 - accuracy: 0.0445 - val_loss: 3.4200 - val_accuracy: 0.0516 - lr: 1.0000e-04\n",
            "Epoch 9/30\n",
            "22/22 [==============================] - 10s 453ms/step - loss: 3.6385 - accuracy: 0.0267 - val_loss: 3.4141 - val_accuracy: 0.0323 - lr: 1.0000e-04\n",
            "Epoch 10/30\n",
            "22/22 [==============================] - 8s 373ms/step - loss: 3.6097 - accuracy: 0.0282 - val_loss: 3.4095 - val_accuracy: 0.0323 - lr: 1.0000e-04\n",
            "Epoch 11/30\n",
            "22/22 [==============================] - 9s 429ms/step - loss: 3.5580 - accuracy: 0.0386 - val_loss: 3.4068 - val_accuracy: 0.0323 - lr: 9.0484e-05\n",
            "Epoch 12/30\n",
            "22/22 [==============================] - 10s 477ms/step - loss: 3.5824 - accuracy: 0.0282 - val_loss: 3.4037 - val_accuracy: 0.0323 - lr: 8.1873e-05\n",
            "Epoch 13/30\n",
            "22/22 [==============================] - 11s 484ms/step - loss: 3.5403 - accuracy: 0.0341 - val_loss: 3.4030 - val_accuracy: 0.0323 - lr: 7.4082e-05\n",
            "Epoch 14/30\n",
            "22/22 [==============================] - 9s 407ms/step - loss: 3.5170 - accuracy: 0.0415 - val_loss: 3.4011 - val_accuracy: 0.0323 - lr: 6.7032e-05\n",
            "Epoch 15/30\n",
            "22/22 [==============================] - 8s 362ms/step - loss: 3.5775 - accuracy: 0.0341 - val_loss: 3.4028 - val_accuracy: 0.0323 - lr: 6.0653e-05\n",
            "Epoch 16/30\n",
            "22/22 [==============================] - 8s 389ms/step - loss: 3.5752 - accuracy: 0.0282 - val_loss: 3.4020 - val_accuracy: 0.0323 - lr: 5.4881e-05\n",
            "Epoch 17/30\n",
            "22/22 [==============================] - 9s 401ms/step - loss: 3.5383 - accuracy: 0.0312 - val_loss: 3.4029 - val_accuracy: 0.0323 - lr: 4.9659e-05\n",
            "Epoch 18/30\n",
            "22/22 [==============================] - 7s 307ms/step - loss: 3.5359 - accuracy: 0.0326 - val_loss: 3.4005 - val_accuracy: 0.0323 - lr: 4.4933e-05\n",
            "Epoch 19/30\n",
            "22/22 [==============================] - 9s 402ms/step - loss: 3.5299 - accuracy: 0.0312 - val_loss: 3.4018 - val_accuracy: 0.0194 - lr: 4.0657e-05\n",
            "Epoch 20/30\n",
            "22/22 [==============================] - 8s 384ms/step - loss: 3.5003 - accuracy: 0.0445 - val_loss: 3.3982 - val_accuracy: 0.0452 - lr: 3.6788e-05\n",
            "Epoch 21/30\n",
            "22/22 [==============================] - 8s 392ms/step - loss: 3.4980 - accuracy: 0.0445 - val_loss: 3.3994 - val_accuracy: 0.0387 - lr: 3.3287e-05\n",
            "Epoch 22/30\n",
            "22/22 [==============================] - 8s 358ms/step - loss: 3.5052 - accuracy: 0.0401 - val_loss: 3.4019 - val_accuracy: 0.0452 - lr: 3.0119e-05\n",
            "Epoch 23/30\n",
            "22/22 [==============================] - 10s 466ms/step - loss: 3.5101 - accuracy: 0.0371 - val_loss: 3.4006 - val_accuracy: 0.0323 - lr: 2.7253e-05\n",
            "Epoch 24/30\n",
            "22/22 [==============================] - 7s 318ms/step - loss: 3.5197 - accuracy: 0.0549 - val_loss: 3.3991 - val_accuracy: 0.0323 - lr: 2.4660e-05\n",
            "Epoch 25/30\n",
            "22/22 [==============================] - 9s 393ms/step - loss: 3.5072 - accuracy: 0.0460 - val_loss: 3.3995 - val_accuracy: 0.0323 - lr: 2.2313e-05\n",
            "Epoch 26/30\n",
            "22/22 [==============================] - 7s 318ms/step - loss: 3.5450 - accuracy: 0.0341 - val_loss: 3.3969 - val_accuracy: 0.0323 - lr: 2.0190e-05\n",
            "Epoch 27/30\n",
            "22/22 [==============================] - 9s 395ms/step - loss: 3.5244 - accuracy: 0.0430 - val_loss: 3.4001 - val_accuracy: 0.0323 - lr: 1.8268e-05\n",
            "Epoch 28/30\n",
            "22/22 [==============================] - 7s 317ms/step - loss: 3.5076 - accuracy: 0.0252 - val_loss: 3.4001 - val_accuracy: 0.0323 - lr: 1.6530e-05\n",
            "Epoch 29/30\n",
            "22/22 [==============================] - 9s 396ms/step - loss: 3.4932 - accuracy: 0.0371 - val_loss: 3.3984 - val_accuracy: 0.0323 - lr: 1.4957e-05\n",
            "Epoch 30/30\n",
            "22/22 [==============================] - 7s 313ms/step - loss: 3.5191 - accuracy: 0.0371 - val_loss: 3.3985 - val_accuracy: 0.0323 - lr: 1.3534e-05\n"
          ]
        }
      ]
    },
    {
      "cell_type": "code",
      "source": [
        "plt.plot(resnet_history.history['accuracy'])\n",
        "plt.plot(resnet_history.history['val_accuracy'])\n",
        "plt.ylabel('accuracy')\n",
        "plt.xlabel('epoch')\n",
        "plt.legend(['train', 'val'], loc='upper left')\n",
        "plt.show()"
      ],
      "metadata": {
        "colab": {
          "base_uri": "https://localhost:8080/",
          "height": 449
        },
        "id": "sm4QTS2wEy-k",
        "outputId": "86c044d8-0789-415b-cb9b-7ef414d75942"
      },
      "execution_count": null,
      "outputs": [
        {
          "output_type": "display_data",
          "data": {
            "text/plain": [
              "<Figure size 640x480 with 1 Axes>"
            ],
            "image/png": "[encoded data removed]"
          },
          "metadata": {}
        }
      ]
    },
    {
      "cell_type": "code",
      "source": [
        "plt.plot(resnet_history.history['loss'])\n",
        "plt.plot(resnet_history.history['val_loss'])\n",
        "plt.ylabel('loss')\n",
        "plt.xlabel('epoch')\n",
        "plt.legend(['train', 'val'], loc='upper left')\n",
        "plt.show()"
      ],
      "metadata": {
        "colab": {
          "base_uri": "https://localhost:8080/",
          "height": 449
        },
        "id": "s71Tp7shE4xn",
        "outputId": "977e4cd9-81b0-4968-915c-12438cac7ca5"
      },
      "execution_count": null,
      "outputs": [
        {
          "output_type": "display_data",
          "data": {
            "text/plain": [
              "<Figure size 640x480 with 1 Axes>"
            ],
            "image/png": "[encoded data removed]"
          },
          "metadata": {}
        }
      ]
    },
    {
      "cell_type": "markdown",
      "source": [
        "## Through InceptionV3"
      ],
      "metadata": {
        "id": "o9CizNZnYGDs"
      }
    },
    {
      "cell_type": "code",
      "source": [
        "from tensorflow.keras.applications import InceptionV3\n",
        "from tensorflow.keras.layers import GlobalAveragePooling2D\n",
        "\n",
        "base_model = InceptionV3(weights='imagenet', include_top=False, input_shape=(WIDTH, HEIGHT, 3))\n",
        "base_model.trainable = True  # Allow fine-tuning\n",
        "\n",
        "# Fine-tune only the last few layers of the InceptionV3 model\n",
        "for layer in base_model.layers[:-30]:\n",
        "    layer.trainable = False\n",
        "\n",
        "inception_model = tf.keras.Sequential([\n",
        "    base_model,\n",
        "    GlobalAveragePooling2D(),\n",
        "    Dropout(0.6),\n",
        "    tf.keras.layers.Dense(units=512, activation=\"relu\"),\n",
        "    Dropout(0.6),\n",
        "    tf.keras.layers.Dense(units=30, activation='softmax')\n",
        "])"
      ],
      "metadata": {
        "id": "r89_hynIYN45"
      },
      "execution_count": null,
      "outputs": []
    },
    {
      "cell_type": "code",
      "source": [
        "inception_model.compile(\n",
        "    optimizer=tf.keras.optimizers.Adam(learning_rate=5e-5),\n",
        "    loss=tf.keras.losses.CategoricalCrossentropy(from_logits=False),\n",
        "    metrics=['accuracy']\n",
        ")"
      ],
      "metadata": {
        "id": "BJBo3GjxYTPn"
      },
      "execution_count": null,
      "outputs": []
    },
    {
      "cell_type": "code",
      "source": [
        "inception_model.summary()"
      ],
      "metadata": {
        "colab": {
          "base_uri": "https://localhost:8080/"
        },
        "id": "23ohCr5PYWiV",
        "outputId": "5ff91490-0e0c-4fae-b1cb-7bd54f0447f5"
      },
      "execution_count": null,
      "outputs": [
        {
          "output_type": "stream",
          "name": "stdout",
          "text": [
            "Model: \"sequential_6\"\n",
            "_________________________________________________________________\n",
            " Layer (type)                Output Shape              Param #   \n",
            "=================================================================\n",
            " inception_v3 (Functional)   (None, 5, 5, 2048)        21802784  \n",
            "                                                                 \n",
            " global_average_pooling2d_4  (None, 2048)              0         \n",
            "  (GlobalAveragePooling2D)                                       \n",
            "                                                                 \n",
            " dropout_10 (Dropout)        (None, 2048)              0         \n",
            "                                                                 \n",
            " dense_12 (Dense)            (None, 512)               1049088   \n",
            "                                                                 \n",
            " dropout_11 (Dropout)        (None, 512)               0         \n",
            "                                                                 \n",
            " dense_13 (Dense)            (None, 30)                15390     \n",
            "                                                                 \n",
            "=================================================================\n",
            "Total params: 22867262 (87.23 MB)\n",
            "Trainable params: 6220510 (23.73 MB)\n",
            "Non-trainable params: 16646752 (63.50 MB)\n",
            "_________________________________________________________________\n"
          ]
        }
      ]
    },
    {
      "cell_type": "code",
      "source": [
        "# Learning rate scheduler\n",
        "def lr_scheduler(epoch, lr):\n",
        "    if epoch < 10:\n",
        "        return lr\n",
        "    else:\n",
        "        return lr * tf.math.exp(-0.1)\n",
        "\n",
        "lr_schedule = tf.keras.callbacks.LearningRateScheduler(lr_scheduler)"
      ],
      "metadata": {
        "id": "WQYcwpT9Y4GA"
      },
      "execution_count": null,
      "outputs": []
    },
    {
      "cell_type": "code",
      "source": [
        "# Train the model with the new architecture\n",
        "inception_history = inception_model.fit(\n",
        "    train_generator,\n",
        "    validation_data=validation_generator,\n",
        "    epochs=70,\n",
        "    callbacks=[lr_schedule]\n",
        ")"
      ],
      "metadata": {
        "colab": {
          "base_uri": "https://localhost:8080/"
        },
        "id": "5-0J7Ob5YZyV",
        "outputId": "0c84ba73-3bdd-47d7-ecc2-244c960ec609"
      },
      "execution_count": null,
      "outputs": [
        {
          "output_type": "stream",
          "name": "stdout",
          "text": [
            "Epoch 1/70\n",
            "22/22 [==============================] - 22s 703ms/step - loss: 3.9715 - accuracy: 0.0430 - val_loss: 3.3581 - val_accuracy: 0.0645 - lr: 5.0000e-05\n",
            "Epoch 2/70\n",
            "22/22 [==============================] - 15s 668ms/step - loss: 3.8119 - accuracy: 0.0534 - val_loss: 3.2318 - val_accuracy: 0.0968 - lr: 5.0000e-05\n",
            "Epoch 3/70\n",
            "22/22 [==============================] - 15s 670ms/step - loss: 3.7282 - accuracy: 0.0638 - val_loss: 3.0642 - val_accuracy: 0.2194 - lr: 5.0000e-05\n",
            "Epoch 4/70\n",
            "22/22 [==============================] - 14s 658ms/step - loss: 3.4390 - accuracy: 0.0905 - val_loss: 3.0416 - val_accuracy: 0.2323 - lr: 5.0000e-05\n",
            "Epoch 5/70\n",
            "22/22 [==============================] - 15s 666ms/step - loss: 3.4712 - accuracy: 0.0772 - val_loss: 3.0000 - val_accuracy: 0.2194 - lr: 5.0000e-05\n",
            "Epoch 6/70\n",
            "22/22 [==============================] - 16s 721ms/step - loss: 3.2573 - accuracy: 0.1068 - val_loss: 2.9512 - val_accuracy: 0.2710 - lr: 5.0000e-05\n",
            "Epoch 7/70\n",
            "22/22 [==============================] - 15s 723ms/step - loss: 3.2038 - accuracy: 0.1454 - val_loss: 2.8569 - val_accuracy: 0.3613 - lr: 5.0000e-05\n",
            "Epoch 8/70\n",
            "22/22 [==============================] - 14s 657ms/step - loss: 3.1024 - accuracy: 0.1558 - val_loss: 2.8142 - val_accuracy: 0.3484 - lr: 5.0000e-05\n",
            "Epoch 9/70\n",
            "22/22 [==============================] - 15s 665ms/step - loss: 3.0795 - accuracy: 0.1691 - val_loss: 2.7702 - val_accuracy: 0.3419 - lr: 5.0000e-05\n",
            "Epoch 10/70\n",
            "22/22 [==============================] - 15s 692ms/step - loss: 2.9643 - accuracy: 0.1840 - val_loss: 2.7574 - val_accuracy: 0.3419 - lr: 5.0000e-05\n",
            "Epoch 11/70\n",
            "22/22 [==============================] - 15s 668ms/step - loss: 2.9855 - accuracy: 0.1528 - val_loss: 2.6638 - val_accuracy: 0.3871 - lr: 4.5242e-05\n",
            "Epoch 12/70\n",
            "22/22 [==============================] - 15s 701ms/step - loss: 2.8956 - accuracy: 0.1795 - val_loss: 2.6884 - val_accuracy: 0.3871 - lr: 4.0937e-05\n",
            "Epoch 13/70\n",
            "22/22 [==============================] - 15s 666ms/step - loss: 2.7815 - accuracy: 0.2166 - val_loss: 2.6264 - val_accuracy: 0.3742 - lr: 3.7041e-05\n",
            "Epoch 14/70\n",
            "22/22 [==============================] - 15s 670ms/step - loss: 2.7587 - accuracy: 0.2211 - val_loss: 2.5846 - val_accuracy: 0.4129 - lr: 3.3516e-05\n",
            "Epoch 15/70\n",
            "22/22 [==============================] - 15s 678ms/step - loss: 2.7849 - accuracy: 0.2359 - val_loss: 2.5399 - val_accuracy: 0.4000 - lr: 3.0327e-05\n",
            "Epoch 16/70\n",
            "22/22 [==============================] - 16s 732ms/step - loss: 2.7377 - accuracy: 0.2211 - val_loss: 2.5258 - val_accuracy: 0.3935 - lr: 2.7441e-05\n",
            "Epoch 17/70\n",
            "22/22 [==============================] - 15s 666ms/step - loss: 2.6237 - accuracy: 0.2730 - val_loss: 2.5028 - val_accuracy: 0.3935 - lr: 2.4829e-05\n",
            "Epoch 18/70\n",
            "22/22 [==============================] - 14s 650ms/step - loss: 2.6043 - accuracy: 0.2730 - val_loss: 2.4761 - val_accuracy: 0.4258 - lr: 2.2466e-05\n",
            "Epoch 19/70\n",
            "22/22 [==============================] - 14s 659ms/step - loss: 2.6528 - accuracy: 0.2374 - val_loss: 2.4042 - val_accuracy: 0.4323 - lr: 2.0328e-05\n",
            "Epoch 20/70\n",
            "22/22 [==============================] - 15s 668ms/step - loss: 2.6138 - accuracy: 0.2760 - val_loss: 2.3879 - val_accuracy: 0.4258 - lr: 1.8394e-05\n",
            "Epoch 21/70\n",
            "22/22 [==============================] - 14s 661ms/step - loss: 2.5303 - accuracy: 0.3027 - val_loss: 2.4319 - val_accuracy: 0.3935 - lr: 1.6644e-05\n",
            "Epoch 22/70\n",
            "22/22 [==============================] - 15s 665ms/step - loss: 2.5670 - accuracy: 0.3042 - val_loss: 2.4372 - val_accuracy: 0.4516 - lr: 1.5060e-05\n",
            "Epoch 23/70\n",
            "22/22 [==============================] - 15s 665ms/step - loss: 2.5490 - accuracy: 0.2774 - val_loss: 2.3361 - val_accuracy: 0.4323 - lr: 1.3627e-05\n",
            "Epoch 24/70\n",
            "22/22 [==============================] - 14s 665ms/step - loss: 2.5382 - accuracy: 0.3160 - val_loss: 2.3751 - val_accuracy: 0.4258 - lr: 1.2330e-05\n",
            "Epoch 25/70\n",
            "22/22 [==============================] - 14s 664ms/step - loss: 2.4642 - accuracy: 0.3264 - val_loss: 2.3472 - val_accuracy: 0.4452 - lr: 1.1156e-05\n",
            "Epoch 26/70\n",
            "22/22 [==============================] - 15s 670ms/step - loss: 2.4223 - accuracy: 0.3457 - val_loss: 2.3581 - val_accuracy: 0.4387 - lr: 1.0095e-05\n",
            "Epoch 27/70\n",
            "22/22 [==============================] - 14s 665ms/step - loss: 2.4666 - accuracy: 0.3234 - val_loss: 2.3229 - val_accuracy: 0.4581 - lr: 9.1342e-06\n",
            "Epoch 28/70\n",
            "22/22 [==============================] - 15s 667ms/step - loss: 2.4901 - accuracy: 0.3145 - val_loss: 2.3422 - val_accuracy: 0.4387 - lr: 8.2649e-06\n",
            "Epoch 29/70\n",
            "22/22 [==============================] - 16s 759ms/step - loss: 2.4548 - accuracy: 0.3027 - val_loss: 2.2939 - val_accuracy: 0.4323 - lr: 7.4784e-06\n",
            "Epoch 30/70\n",
            "22/22 [==============================] - 15s 669ms/step - loss: 2.3708 - accuracy: 0.3294 - val_loss: 2.4038 - val_accuracy: 0.4000 - lr: 6.7668e-06\n",
            "Epoch 31/70\n",
            "22/22 [==============================] - 14s 660ms/step - loss: 2.4179 - accuracy: 0.3338 - val_loss: 2.3274 - val_accuracy: 0.4258 - lr: 6.1228e-06\n",
            "Epoch 32/70\n",
            "22/22 [==============================] - 17s 772ms/step - loss: 2.4042 - accuracy: 0.3457 - val_loss: 2.3191 - val_accuracy: 0.3935 - lr: 5.5402e-06\n",
            "Epoch 33/70\n",
            "22/22 [==============================] - 14s 664ms/step - loss: 2.4130 - accuracy: 0.3353 - val_loss: 2.2513 - val_accuracy: 0.4581 - lr: 5.0129e-06\n",
            "Epoch 34/70\n",
            "22/22 [==============================] - 15s 690ms/step - loss: 2.4539 - accuracy: 0.2953 - val_loss: 2.2816 - val_accuracy: 0.4194 - lr: 4.5359e-06\n",
            "Epoch 35/70\n",
            "22/22 [==============================] - 14s 655ms/step - loss: 2.4006 - accuracy: 0.3323 - val_loss: 2.2853 - val_accuracy: 0.4452 - lr: 4.1042e-06\n",
            "Epoch 36/70\n",
            "22/22 [==============================] - 15s 671ms/step - loss: 2.3470 - accuracy: 0.3531 - val_loss: 2.2313 - val_accuracy: 0.4839 - lr: 3.7137e-06\n",
            "Epoch 37/70\n",
            "22/22 [==============================] - 15s 705ms/step - loss: 2.3851 - accuracy: 0.3412 - val_loss: 2.2406 - val_accuracy: 0.4452 - lr: 3.3603e-06\n",
            "Epoch 38/70\n",
            "22/22 [==============================] - 15s 671ms/step - loss: 2.3057 - accuracy: 0.3546 - val_loss: 2.2641 - val_accuracy: 0.4452 - lr: 3.0405e-06\n",
            "Epoch 39/70\n",
            "22/22 [==============================] - 14s 658ms/step - loss: 2.3879 - accuracy: 0.3442 - val_loss: 2.2805 - val_accuracy: 0.4645 - lr: 2.7512e-06\n",
            "Epoch 40/70\n",
            "22/22 [==============================] - 14s 655ms/step - loss: 2.3651 - accuracy: 0.3368 - val_loss: 2.3061 - val_accuracy: 0.4581 - lr: 2.4893e-06\n",
            "Epoch 41/70\n",
            "22/22 [==============================] - 15s 695ms/step - loss: 2.4400 - accuracy: 0.3249 - val_loss: 2.2741 - val_accuracy: 0.4516 - lr: 2.2525e-06\n",
            "Epoch 42/70\n",
            "22/22 [==============================] - 15s 671ms/step - loss: 2.3569 - accuracy: 0.3264 - val_loss: 2.3027 - val_accuracy: 0.4258 - lr: 2.0381e-06\n",
            "Epoch 43/70\n",
            "22/22 [==============================] - 15s 694ms/step - loss: 2.4229 - accuracy: 0.3175 - val_loss: 2.2295 - val_accuracy: 0.4774 - lr: 1.8442e-06\n",
            "Epoch 44/70\n",
            "22/22 [==============================] - 14s 663ms/step - loss: 2.3597 - accuracy: 0.3501 - val_loss: 2.2499 - val_accuracy: 0.4387 - lr: 1.6687e-06\n",
            "Epoch 45/70\n",
            "22/22 [==============================] - 14s 658ms/step - loss: 2.4248 - accuracy: 0.3205 - val_loss: 2.2291 - val_accuracy: 0.4516 - lr: 1.5099e-06\n",
            "Epoch 46/70\n",
            "22/22 [==============================] - 15s 700ms/step - loss: 2.3605 - accuracy: 0.3412 - val_loss: 2.2046 - val_accuracy: 0.4581 - lr: 1.3662e-06\n",
            "Epoch 47/70\n",
            "22/22 [==============================] - 14s 656ms/step - loss: 2.2875 - accuracy: 0.3680 - val_loss: 2.2780 - val_accuracy: 0.4452 - lr: 1.2362e-06\n",
            "Epoch 48/70\n",
            "22/22 [==============================] - 14s 654ms/step - loss: 2.4331 - accuracy: 0.3101 - val_loss: 2.1958 - val_accuracy: 0.4710 - lr: 1.1185e-06\n",
            "Epoch 49/70\n",
            "22/22 [==============================] - 14s 632ms/step - loss: 2.3528 - accuracy: 0.3398 - val_loss: 2.2500 - val_accuracy: 0.4581 - lr: 1.0121e-06\n",
            "Epoch 50/70\n",
            "22/22 [==============================] - 15s 670ms/step - loss: 2.3694 - accuracy: 0.3338 - val_loss: 2.2952 - val_accuracy: 0.4452 - lr: 9.1578e-07\n",
            "Epoch 51/70\n",
            "22/22 [==============================] - 14s 656ms/step - loss: 2.3749 - accuracy: 0.3160 - val_loss: 2.2356 - val_accuracy: 0.4516 - lr: 8.2863e-07\n",
            "Epoch 52/70\n",
            "22/22 [==============================] - 14s 663ms/step - loss: 2.3868 - accuracy: 0.3501 - val_loss: 2.2186 - val_accuracy: 0.4839 - lr: 7.4978e-07\n",
            "Epoch 53/70\n",
            "22/22 [==============================] - 14s 661ms/step - loss: 2.3729 - accuracy: 0.3516 - val_loss: 2.2807 - val_accuracy: 0.4516 - lr: 6.7843e-07\n",
            "Epoch 54/70\n",
            "22/22 [==============================] - 15s 669ms/step - loss: 2.3595 - accuracy: 0.3501 - val_loss: 2.2285 - val_accuracy: 0.4645 - lr: 6.1387e-07\n",
            "Epoch 55/70\n",
            "22/22 [==============================] - 14s 657ms/step - loss: 2.3388 - accuracy: 0.3516 - val_loss: 2.2137 - val_accuracy: 0.4774 - lr: 5.5545e-07\n",
            "Epoch 56/70\n",
            "22/22 [==============================] - 15s 667ms/step - loss: 2.3341 - accuracy: 0.3620 - val_loss: 2.2159 - val_accuracy: 0.4323 - lr: 5.0259e-07\n",
            "Epoch 57/70\n",
            "22/22 [==============================] - 14s 660ms/step - loss: 2.3856 - accuracy: 0.3056 - val_loss: 2.2893 - val_accuracy: 0.4065 - lr: 4.5476e-07\n",
            "Epoch 58/70\n",
            "22/22 [==============================] - 15s 690ms/step - loss: 2.3868 - accuracy: 0.3279 - val_loss: 2.2895 - val_accuracy: 0.4516 - lr: 4.1149e-07\n",
            "Epoch 59/70\n",
            "22/22 [==============================] - 14s 681ms/step - loss: 2.4025 - accuracy: 0.3457 - val_loss: 2.2954 - val_accuracy: 0.4129 - lr: 3.7233e-07\n",
            "Epoch 60/70\n",
            "22/22 [==============================] - 14s 661ms/step - loss: 2.3952 - accuracy: 0.3175 - val_loss: 2.2606 - val_accuracy: 0.4452 - lr: 3.3690e-07\n",
            "Epoch 61/70\n",
            "22/22 [==============================] - 15s 660ms/step - loss: 2.3754 - accuracy: 0.3264 - val_loss: 2.2441 - val_accuracy: 0.4839 - lr: 3.0484e-07\n",
            "Epoch 62/70\n",
            "22/22 [==============================] - 15s 672ms/step - loss: 2.4179 - accuracy: 0.3234 - val_loss: 2.3306 - val_accuracy: 0.4000 - lr: 2.7583e-07\n",
            "Epoch 63/70\n",
            "22/22 [==============================] - 15s 700ms/step - loss: 2.3780 - accuracy: 0.3457 - val_loss: 2.2478 - val_accuracy: 0.4839 - lr: 2.4958e-07\n",
            "Epoch 64/70\n",
            "22/22 [==============================] - 15s 671ms/step - loss: 2.3336 - accuracy: 0.3501 - val_loss: 2.2890 - val_accuracy: 0.4387 - lr: 2.2583e-07\n",
            "Epoch 65/70\n",
            "22/22 [==============================] - 15s 669ms/step - loss: 2.3570 - accuracy: 0.3620 - val_loss: 2.2349 - val_accuracy: 0.4645 - lr: 2.0434e-07\n",
            "Epoch 66/70\n",
            "22/22 [==============================] - 15s 670ms/step - loss: 2.3353 - accuracy: 0.3398 - val_loss: 2.2088 - val_accuracy: 0.4581 - lr: 1.8489e-07\n",
            "Epoch 67/70\n",
            "22/22 [==============================] - 15s 668ms/step - loss: 2.4228 - accuracy: 0.3175 - val_loss: 2.1883 - val_accuracy: 0.5032 - lr: 1.6730e-07\n",
            "Epoch 68/70\n",
            "22/22 [==============================] - 15s 666ms/step - loss: 2.3442 - accuracy: 0.3561 - val_loss: 2.2206 - val_accuracy: 0.4774 - lr: 1.5138e-07\n",
            "Epoch 69/70\n",
            "22/22 [==============================] - 14s 660ms/step - loss: 2.3799 - accuracy: 0.3487 - val_loss: 2.2491 - val_accuracy: 0.4452 - lr: 1.3697e-07\n",
            "Epoch 70/70\n",
            "22/22 [==============================] - 15s 698ms/step - loss: 2.3837 - accuracy: 0.3264 - val_loss: 2.2725 - val_accuracy: 0.4710 - lr: 1.2394e-07\n"
          ]
        }
      ]
    },
    {
      "cell_type": "code",
      "source": [
        "history = inception_history"
      ],
      "metadata": {
        "id": "_iPAJHdKeL86"
      },
      "execution_count": null,
      "outputs": []
    },
    {
      "cell_type": "code",
      "source": [
        "plt.plot(history.history['accuracy'])\n",
        "plt.plot(history.history['val_accuracy'])\n",
        "plt.ylabel('accuracy')\n",
        "plt.xlabel('epoch')\n",
        "plt.legend(['train', 'val'], loc='upper left')\n",
        "plt.show()"
      ],
      "metadata": {
        "colab": {
          "base_uri": "https://localhost:8080/",
          "height": 449
        },
        "id": "bEPdb5kTY_BH",
        "outputId": "589f2474-fa5b-4d8b-f613-5cf61e8628b9"
      },
      "execution_count": null,
      "outputs": [
        {
          "output_type": "display_data",
          "data": {
            "text/plain": [
              "<Figure size 640x480 with 1 Axes>"
            ],
            "image/png": "[encoded data removed]"
          },
          "metadata": {}
        }
      ]
    },
    {
      "cell_type": "code",
      "source": [
        "plt.plot(history.history['loss'])\n",
        "plt.plot(history.history['val_loss'])\n",
        "plt.ylabel('loss')\n",
        "plt.xlabel('epoch')\n",
        "plt.legend(['train', 'val'], loc='upper left')\n",
        "plt.show()"
      ],
      "metadata": {
        "colab": {
          "base_uri": "https://localhost:8080/",
          "height": 449
        },
        "id": "9-BHKgMyZB-E",
        "outputId": "5f8247fd-8ce9-4725-c94a-a687c124f4ca"
      },
      "execution_count": null,
      "outputs": [
        {
          "output_type": "display_data",
          "data": {
            "text/plain": [
              "<Figure size 640x480 with 1 Axes>"
            ],
            "image/png": "[encoded data removed]"
          },
          "metadata": {}
        }
      ]
    },
    {
      "cell_type": "code",
      "source": [
        "train_generator.class_indices"
      ],
      "metadata": {
        "colab": {
          "base_uri": "https://localhost:8080/"
        },
        "id": "nXJ_339EHoMv",
        "outputId": "34516c22-00af-4f6e-85a6-3114327a7f62"
      },
      "execution_count": null,
      "outputs": [
        {
          "output_type": "execute_result",
          "data": {
            "text/plain": [
              "{'Cherry': 0,\n",
              " 'Coffee-plant': 1,\n",
              " 'Cucumber': 2,\n",
              " 'Fox_nut(Makhana)': 3,\n",
              " 'Lemon': 4,\n",
              " 'Olive-tree': 5,\n",
              " 'Pearl_millet(bajra)': 6,\n",
              " 'Tobacco-plant': 7,\n",
              " 'almond': 8,\n",
              " 'banana': 9,\n",
              " 'cardamom': 10,\n",
              " 'chilli': 11,\n",
              " 'clove': 12,\n",
              " 'coconut': 13,\n",
              " 'cotton': 14,\n",
              " 'gram': 15,\n",
              " 'jowar': 16,\n",
              " 'jute': 17,\n",
              " 'maize': 18,\n",
              " 'mustard-oil': 19,\n",
              " 'papaya': 20,\n",
              " 'pineapple': 21,\n",
              " 'rice': 22,\n",
              " 'soyabean': 23,\n",
              " 'sugarcane': 24,\n",
              " 'sunflower': 25,\n",
              " 'tea': 26,\n",
              " 'tomato': 27,\n",
              " 'vigna-radiati(Mung)': 28,\n",
              " 'wheat': 29}"
            ]
          },
          "metadata": {},
          "execution_count": 114
        }
      ]
    },
    {
      "cell_type": "markdown",
      "source": [
        "## Save the model"
      ],
      "metadata": {
        "id": "c3e6TFef_-Ov"
      }
    },
    {
      "cell_type": "code",
      "source": [
        "model = inception_model"
      ],
      "metadata": {
        "id": "ID0SnRnieR0Z"
      },
      "execution_count": null,
      "outputs": []
    },
    {
      "cell_type": "code",
      "source": [
        "model.save('crop_classification_model.h5')"
      ],
      "metadata": {
        "colab": {
          "base_uri": "https://localhost:8080/"
        },
        "id": "jneUhVXDdGGj",
        "outputId": "03c04ee8-6102-49d0-8c4f-6d441631b28b"
      },
      "execution_count": null,
      "outputs": [
        {
          "output_type": "stream",
          "name": "stderr",
          "text": [
            "/usr/local/lib/python3.10/dist-packages/keras/src/engine/training.py:3103: UserWarning: You are saving your model as an HDF5 file via `model.save()`. This file format is considered legacy. We recommend using instead the native Keras format, e.g. `model.save('my_model.keras')`.\n",
            "  saving_api.save_model(\n"
          ]
        }
      ]
    },
    {
      "cell_type": "code",
      "source": [
        "resnet_model.save('crop_classification_model.h5')"
      ],
      "metadata": {
        "colab": {
          "base_uri": "https://localhost:8080/"
        },
        "id": "O8mhHjDFFGxY",
        "outputId": "679deed7-cad0-4e8a-fa4e-de06a4938e80"
      },
      "execution_count": null,
      "outputs": [
        {
          "output_type": "stream",
          "name": "stderr",
          "text": [
            "/usr/local/lib/python3.10/dist-packages/keras/src/engine/training.py:3103: UserWarning: You are saving your model as an HDF5 file via `model.save()`. This file format is considered legacy. We recommend using instead the native Keras format, e.g. `model.save('my_model.keras')`.\n",
            "  saving_api.save_model(\n"
          ]
        }
      ]
    },
    {
      "cell_type": "code",
      "source": [
        "inception_model.save('crop_classification_model.h5')"
      ],
      "metadata": {
        "colab": {
          "base_uri": "https://localhost:8080/"
        },
        "id": "PkB-nUwSb-fv",
        "outputId": "43049fa0-01a9-416d-9352-1f95e05333bc"
      },
      "execution_count": null,
      "outputs": [
        {
          "output_type": "stream",
          "name": "stderr",
          "text": [
            "/usr/local/lib/python3.10/dist-packages/keras/src/engine/training.py:3103: UserWarning: You are saving your model as an HDF5 file via `model.save()`. This file format is considered legacy. We recommend using instead the native Keras format, e.g. `model.save('my_model.keras')`.\n",
            "  saving_api.save_model(\n"
          ]
        }
      ]
    },
    {
      "cell_type": "markdown",
      "source": [
        "## Load the saved model for testing"
      ],
      "metadata": {
        "id": "lROuKMumAFp6"
      }
    },
    {
      "cell_type": "code",
      "source": [
        "loaded_model = tf.keras.models.load_model('crop_classification_model.h5')"
      ],
      "metadata": {
        "id": "QPf1PDvldK8z"
      },
      "execution_count": null,
      "outputs": []
    },
    {
      "cell_type": "markdown",
      "source": [
        "## Test the model on a new image"
      ],
      "metadata": {
        "id": "XLbTuxs-AO1g"
      }
    },
    {
      "cell_type": "code",
      "source": [
        "import numpy as np\n",
        "from tensorflow.keras.preprocessing import image"
      ],
      "metadata": {
        "id": "Y8UcYMWcI06R"
      },
      "execution_count": null,
      "outputs": []
    },
    {
      "cell_type": "code",
      "source": [
        "def preprocess_image(file_path):\n",
        "    img = image.load_img(file_path, target_size=(WIDTH, HEIGHT))\n",
        "    img_array = image.img_to_array(img)\n",
        "    img_array = np.expand_dims(img_array, axis=0)\n",
        "    img_array /= 255.0  # Normalize\n",
        "    return img_array"
      ],
      "metadata": {
        "id": "qy377URhc8V5"
      },
      "execution_count": null,
      "outputs": []
    },
    {
      "cell_type": "code",
      "source": [
        "import random\n",
        "\n",
        "def preprocess_image(file_path):\n",
        "    img = image.load_img(file_path)\n",
        "    width, height = img.size\n",
        "\n",
        "    # Randomly crop a 224x224 region (adjust size as needed)\n",
        "    x = random.randint(0, width - 224)\n",
        "    y = random.randint(0, height - 224)\n",
        "    crop_img = img.crop((x, y, x + 224, y + 224))\n",
        "\n",
        "    img_array = image.img_to_array(crop_img)\n",
        "    img_array = np.expand_dims(img_array, axis=0)\n",
        "    img_array /= 255.0  # Normalize\n",
        "    return img_array"
      ],
      "metadata": {
        "id": "UP5DvAg2nU73"
      },
      "execution_count": null,
      "outputs": []
    },
    {
      "cell_type": "code",
      "source": [
        "test_image_path = '/content/test_img.jpg'\n",
        "preprocessed_image = preprocess_image(test_image_path)\n",
        "predictions = model.predict(preprocessed_image)\n",
        "predicted_class = np.argmax(predictions)"
      ],
      "metadata": {
        "colab": {
          "base_uri": "https://localhost:8080/"
        },
        "id": "ofhOOgRbdChu",
        "outputId": "7b06ae31-56a8-4705-e9b8-9d5d5ed18e59"
      },
      "execution_count": null,
      "outputs": [
        {
          "output_type": "stream",
          "name": "stdout",
          "text": [
            "1/1 [==============================] - 4s 4s/step\n"
          ]
        }
      ]
    },
    {
      "cell_type": "code",
      "source": [
        "new_predictions = loaded_model.predict(preprocessed_image)\n",
        "new_predicted_class = np.argmax(new_predictions)"
      ],
      "metadata": {
        "colab": {
          "base_uri": "https://localhost:8080/"
        },
        "id": "BtMNO2NLdLeu",
        "outputId": "f6eca56d-0f41-4a1a-8ce5-27f5712f57bf"
      },
      "execution_count": null,
      "outputs": [
        {
          "output_type": "stream",
          "name": "stdout",
          "text": [
            "1/1 [==============================] - 1s 1s/step\n"
          ]
        }
      ]
    },
    {
      "cell_type": "code",
      "source": [
        "print(predicted_class)\n",
        "print(new_predicted_class)"
      ],
      "metadata": {
        "colab": {
          "base_uri": "https://localhost:8080/"
        },
        "id": "cKcVWVtadoMz",
        "outputId": "4a9d637a-c5c5-4771-f670-7e2c0d01a393"
      },
      "execution_count": null,
      "outputs": [
        {
          "output_type": "stream",
          "name": "stdout",
          "text": [
            "28\n",
            "28\n"
          ]
        }
      ]
    },
    {
      "cell_type": "markdown",
      "source": [
        "## Get the class name for the predicted class"
      ],
      "metadata": {
        "id": "ekouW8mSAry-"
      }
    },
    {
      "cell_type": "code",
      "source": [
        "class_indices = train_generator.class_indices\n",
        "\n",
        "# Invert the dictionary to get a mapping from indices to class names\n",
        "inverse_class_indices = {v: k for k, v in class_indices.items()}\n",
        "\n",
        "# Example usage to get the class name for new_predicted_class\n",
        "class_name = inverse_class_indices[new_predicted_class]\n",
        "\n",
        "print(f'The predicted class is: {class_name}')"
      ],
      "metadata": {
        "colab": {
          "base_uri": "https://localhost:8080/"
        },
        "id": "-szM6JQSeRHW",
        "outputId": "dbdd63ef-c1a7-4b73-85b8-b35f0a10d705"
      },
      "execution_count": null,
      "outputs": [
        {
          "output_type": "stream",
          "name": "stdout",
          "text": [
            "The predicted class is: vigna-radiati(Mung)\n"
          ]
        }
      ]
    }
  ],
  "metadata": {
    "kernelspec": {
      "display_name": "Python 3",
      "name": "python3"
    },
    "language_info": {
      "codemirror_mode": {
        "name": "ipython",
        "version": 3
      },
      "file_extension": ".py",
      "mimetype": "text/x-python",
      "name": "python",
      "nbconvert_exporter": "python",
      "pygments_lexer": "ipython3",
      "version": "3.10.6"
    },
    "orig_nbformat": 4,
    "colab": {
      "provenance": [],
      "gpuType": "T4"
    },
    "accelerator": "GPU"
  },
  "nbformat": 4,
  "nbformat_minor": 0
}